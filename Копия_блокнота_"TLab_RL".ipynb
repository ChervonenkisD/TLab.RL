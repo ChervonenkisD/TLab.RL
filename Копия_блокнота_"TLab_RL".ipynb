{
  "cells": [
    {
      "cell_type": "markdown",
      "metadata": {
        "id": "view-in-github",
        "colab_type": "text"
      },
      "source": [
        "<a href=\"https://colab.research.google.com/github/ChervonenkisD/TLab.RL/blob/main/%D0%9A%D0%BE%D0%BF%D0%B8%D1%8F_%D0%B1%D0%BB%D0%BE%D0%BA%D0%BD%D0%BE%D1%82%D0%B0_%22TLab_RL%22.ipynb\" target=\"_parent\"><img src=\"https://colab.research.google.com/assets/colab-badge.svg\" alt=\"Open In Colab\"/></a>"
      ]
    },
    {
      "cell_type": "markdown",
      "source": [
        "# **TLab 2023. RL тестовое задание**\n",
        "Здравствуйте! \n",
        "\n",
        "В данной работе будет произведено сравнение и выполнена реализация двух методов Offline-to-Online Reinforcement Learning (Reinforcement Learning Reusing Prior Data). Для выполнения работы я выбрала методы из статей:\n",
        "\n",
        "1.  [Adaptive Behavior Cloning Regularization for Stable Offline-to-Online Reinforcement Learning](https://arxiv.org/abs/2210.13846)\n",
        "2.  [A Minimalist Approach to Offline Reinforcement Learning](https://arxiv.org/abs/2106.06860)\n"
      ],
      "metadata": {
        "id": "O1SgTWeC6tuQ"
      }
    },
    {
      "cell_type": "markdown",
      "source": [
        "# *Мотивация выбора методов*\n"
      ],
      "metadata": {
        "id": "rYyc0ILt7jCr"
      }
    },
    {
      "cell_type": "markdown",
      "source": [
        "Методы, представленные в этих статьях, базируются на [DDPG](https://arxiv.org/abs/1509.02971) (Deep Deterministic Policy Gradient) - алгоритме глубокого обучения с подкреплением, основной идеей которого является комбинация двух основных концепций: Actor-Critic архитектуры и метода глубокого Q-learning. Что стало одной из причин, почему я предпочла эти статьи, потому что\n",
        "\n",
        "*   Сравнение двух модификаций одного метода очень удобно: нет необходимости дважды с нуля реализовывать алгоритмы, а достаточно единожды создать основной, а далее произвести небольшие (и как указано в обеих публикациях- простые) изменения.\n",
        "\n",
        "*   Также их сравнение  может иметь практическое значение- мы можем сделать выводы о плюсах и минусах каждого, о том, как они улучшили/не изменили/ухудшили исходный метод и в каких случаях какая из модификаций подойдет лучше. \n",
        "\n",
        "А также еще одной причиной моего выбора является:\n",
        "\n",
        "*   В обеих статьх эксперименты проводятся на основе бенчмарка D4RL, что дает возможность, не уходя далеко от результатов приведенных в статьях, произвести их сравнения."
      ],
      "metadata": {
        "id": "ajBuN6oWvdts"
      }
    },
    {
      "cell_type": "markdown",
      "source": [
        "# *Мотивация выбора датасетов*"
      ],
      "metadata": {
        "id": "apV6HN9qrKuu"
      }
    },
    {
      "cell_type": "markdown",
      "source": [
        "Как было отмечено выше, для анализа результата в обеих статьях использовался бенчмарк D4RL. Соотвественно, именно с помощью этой библиотеки можно провести сравнение результатов с публикациями и сделать выводы о том, насаколько хороша получилась реализация.\n",
        "Для проведения экспериментов я выбрала датасеты hopper-medium-replay и walker2d-medium-replay. Так как на hopper-medium-replay для Adaptive Behavior Cloning были показаны наилучшие результаты, а для сравнения хотелось бы использовать разные датасеты, поэтому вторым был выбран Walker2d (основной анализ в публикациях был выполнен именно на walker2d и hopper). "
      ],
      "metadata": {
        "id": "Ojhuaol6rV1F"
      }
    },
    {
      "cell_type": "markdown",
      "source": [
        "# Установка библиотек и систем (в том числе D4RL)"
      ],
      "metadata": {
        "id": "GevZcaqRXXVv"
      }
    },
    {
      "cell_type": "code",
      "execution_count": 1,
      "metadata": {
        "id": "s7PPg0VZG5cK",
        "colab": {
          "base_uri": "https://localhost:8080/"
        },
        "outputId": "141130e6-3e2f-4e19-86a7-8bde74dcf437"
      },
      "outputs": [
        {
          "output_type": "stream",
          "name": "stdout",
          "text": [
            "^C\n",
            "Selecting previously unselected package libgl1-mesa-glx:amd64.\n",
            "(Reading database ... 122349 files and directories currently installed.)\n",
            "Preparing to unpack .../00-libgl1-mesa-glx_21.2.6-0ubuntu0.1~20.04.2_amd64.deb ...\n",
            "Unpacking libgl1-mesa-glx:amd64 (21.2.6-0ubuntu0.1~20.04.2) ...\n",
            "Selecting previously unselected package libgles1:amd64.\n",
            "Preparing to unpack .../01-libgles1_1.3.2-1~ubuntu0.20.04.2_amd64.deb ...\n",
            "Unpacking libgles1:amd64 (1.3.2-1~ubuntu0.20.04.2) ...\n",
            "Selecting previously unselected package libgles-dev:amd64.\n",
            "Preparing to unpack .../02-libgles-dev_1.3.2-1~ubuntu0.20.04.2_amd64.deb ...\n",
            "Unpacking libgles-dev:amd64 (1.3.2-1~ubuntu0.20.04.2) ...\n",
            "Selecting previously unselected package libopengl-dev:amd64.\n",
            "Preparing to unpack .../03-libopengl-dev_1.3.2-1~ubuntu0.20.04.2_amd64.deb ...\n",
            "Unpacking libopengl-dev:amd64 (1.3.2-1~ubuntu0.20.04.2) ...\n",
            "Selecting previously unselected package libglvnd-dev:amd64.\n",
            "Preparing to unpack .../04-libglvnd-dev_1.3.2-1~ubuntu0.20.04.2_amd64.deb ...\n",
            "Unpacking libglvnd-dev:amd64 (1.3.2-1~ubuntu0.20.04.2) ...\n",
            "Selecting previously unselected package libgl1-mesa-dev:amd64.\n",
            "Preparing to unpack .../05-libgl1-mesa-dev_21.2.6-0ubuntu0.1~20.04.2_amd64.deb ...\n",
            "Unpacking libgl1-mesa-dev:amd64 (21.2.6-0ubuntu0.1~20.04.2) ...\n",
            "Selecting previously unselected package libglew2.1:amd64.\n",
            "Preparing to unpack .../06-libglew2.1_2.1.0-4_amd64.deb ...\n",
            "Unpacking libglew2.1:amd64 (2.1.0-4) ...\n",
            "Selecting previously unselected package libglew-dev:amd64.\n",
            "Preparing to unpack .../07-libglew-dev_2.1.0-4_amd64.deb ...\n",
            "Unpacking libglew-dev:amd64 (2.1.0-4) ...\n",
            "Selecting previously unselected package libglfw3:amd64.\n",
            "Preparing to unpack .../08-libglfw3_3.3.2-1_amd64.deb ...\n",
            "Unpacking libglfw3:amd64 (3.3.2-1) ...\n",
            "Selecting previously unselected package patchelf.\n",
            "Preparing to unpack .../09-patchelf_0.10-2build1_amd64.deb ...\n",
            "Unpacking patchelf (0.10-2build1) ...\n",
            "Selecting previously unselected package libosmesa6:amd64.\n",
            "Preparing to unpack .../10-libosmesa6_21.2.6-0ubuntu0.1~20.04.2_amd64.deb ...\n",
            "Unpacking libosmesa6:amd64 (21.2.6-0ubuntu0.1~20.04.2) ...\n",
            "Selecting previously unselected package libosmesa6-dev:amd64.\n",
            "Preparing to unpack .../11-libosmesa6-dev_21.2.6-0ubuntu0.1~20.04.2_amd64.deb ...\n",
            "Unpacking libosmesa6-dev:amd64 (21.2.6-0ubuntu0.1~20.04.2) ...\n",
            "Setting up libglfw3:amd64 (3.3.2-1) ...\n",
            "Setting up libgles1:amd64 (1.3.2-1~ubuntu0.20.04.2) ...\n",
            "Setting up libgl1-mesa-glx:amd64 (21.2.6-0ubuntu0.1~20.04.2) ...\n",
            "Setting up libglew2.1:amd64 (2.1.0-4) ...\n",
            "Setting up libopengl-dev:amd64 (1.3.2-1~ubuntu0.20.04.2) ...\n",
            "Setting up libgles-dev:amd64 (1.3.2-1~ubuntu0.20.04.2) ...\n",
            "Setting up patchelf (0.10-2build1) ...\n",
            "Setting up libosmesa6:amd64 (21.2.6-0ubuntu0.1~20.04.2) ...\n",
            "Setting up libglvnd-dev:amd64 (1.3.2-1~ubuntu0.20.04.2) ...\n",
            "Setting up libglew-dev:amd64 (2.1.0-4) ...\n",
            "Setting up libosmesa6-dev:amd64 (21.2.6-0ubuntu0.1~20.04.2) ...\n",
            "Setting up libgl1-mesa-dev:amd64 (21.2.6-0ubuntu0.1~20.04.2) ...\n",
            "Processing triggers for man-db (2.9.1-1) ...\n",
            "Processing triggers for libc-bin (2.31-0ubuntu9.9) ...\n",
            "Looking in indexes: https://pypi.org/simple, https://us-python.pkg.dev/colab-wheels/public/simple/\n",
            "Collecting mujoco-py<2.2,>=2.1\n",
            "  Downloading mujoco_py-2.1.2.14-py3-none-any.whl (2.4 MB)\n",
            "\u001b[2K     \u001b[90m━━━━━━━━━━━━━━━━━━━━━━━━━━━━━━━━━━━━━━━━\u001b[0m \u001b[32m2.4/2.4 MB\u001b[0m \u001b[31m61.4 MB/s\u001b[0m eta \u001b[36m0:00:00\u001b[0m\n",
            "\u001b[?25hRequirement already satisfied: imageio>=2.1.2 in /usr/local/lib/python3.9/dist-packages (from mujoco-py<2.2,>=2.1) (2.25.1)\n",
            "Requirement already satisfied: cffi>=1.10 in /usr/local/lib/python3.9/dist-packages (from mujoco-py<2.2,>=2.1) (1.15.1)\n",
            "Collecting glfw>=1.4.0\n",
            "  Downloading glfw-2.5.9-py2.py27.py3.py30.py31.py32.py33.py34.py35.py36.py37.py38-none-manylinux2014_x86_64.whl (207 kB)\n",
            "\u001b[2K     \u001b[90m━━━━━━━━━━━━━━━━━━━━━━━━━━━━━━━━━━━━━━\u001b[0m \u001b[32m207.8/207.8 KB\u001b[0m \u001b[31m27.7 MB/s\u001b[0m eta \u001b[36m0:00:00\u001b[0m\n",
            "\u001b[?25hRequirement already satisfied: Cython>=0.27.2 in /usr/local/lib/python3.9/dist-packages (from mujoco-py<2.2,>=2.1) (0.29.34)\n",
            "Requirement already satisfied: numpy>=1.11 in /usr/local/lib/python3.9/dist-packages (from mujoco-py<2.2,>=2.1) (1.22.4)\n",
            "Collecting fasteners~=0.15\n",
            "  Downloading fasteners-0.18-py3-none-any.whl (18 kB)\n",
            "Requirement already satisfied: pycparser in /usr/local/lib/python3.9/dist-packages (from cffi>=1.10->mujoco-py<2.2,>=2.1) (2.21)\n",
            "Requirement already satisfied: pillow>=8.3.2 in /usr/local/lib/python3.9/dist-packages (from imageio>=2.1.2->mujoco-py<2.2,>=2.1) (8.4.0)\n",
            "Installing collected packages: glfw, fasteners, mujoco-py\n",
            "Successfully installed fasteners-0.18 glfw-2.5.9 mujoco-py-2.1.2.14\n",
            "Compiling /usr/local/lib/python3.9/dist-packages/mujoco_py/cymj.pyx because it depends on /usr/local/lib/python3.9/dist-packages/mujoco_py/pxd/mujoco.pxd.\n",
            "[1/1] Cythonizing /usr/local/lib/python3.9/dist-packages/mujoco_py/cymj.pyx\n",
            "running build_ext\n",
            "building 'mujoco_py.cymj' extension\n",
            "creating /usr/local/lib/python3.9/dist-packages/mujoco_py/generated/_pyxbld_2.1.2.14_39_linuxcpuextensionbuilder\n",
            "creating /usr/local/lib/python3.9/dist-packages/mujoco_py/generated/_pyxbld_2.1.2.14_39_linuxcpuextensionbuilder/temp.linux-x86_64-3.9\n",
            "creating /usr/local/lib/python3.9/dist-packages/mujoco_py/generated/_pyxbld_2.1.2.14_39_linuxcpuextensionbuilder/temp.linux-x86_64-3.9/usr\n",
            "creating /usr/local/lib/python3.9/dist-packages/mujoco_py/generated/_pyxbld_2.1.2.14_39_linuxcpuextensionbuilder/temp.linux-x86_64-3.9/usr/local\n",
            "creating /usr/local/lib/python3.9/dist-packages/mujoco_py/generated/_pyxbld_2.1.2.14_39_linuxcpuextensionbuilder/temp.linux-x86_64-3.9/usr/local/lib\n",
            "creating /usr/local/lib/python3.9/dist-packages/mujoco_py/generated/_pyxbld_2.1.2.14_39_linuxcpuextensionbuilder/temp.linux-x86_64-3.9/usr/local/lib/python3.9\n",
            "creating /usr/local/lib/python3.9/dist-packages/mujoco_py/generated/_pyxbld_2.1.2.14_39_linuxcpuextensionbuilder/temp.linux-x86_64-3.9/usr/local/lib/python3.9/dist-packages\n",
            "creating /usr/local/lib/python3.9/dist-packages/mujoco_py/generated/_pyxbld_2.1.2.14_39_linuxcpuextensionbuilder/temp.linux-x86_64-3.9/usr/local/lib/python3.9/dist-packages/mujoco_py\n",
            "creating /usr/local/lib/python3.9/dist-packages/mujoco_py/generated/_pyxbld_2.1.2.14_39_linuxcpuextensionbuilder/temp.linux-x86_64-3.9/usr/local/lib/python3.9/dist-packages/mujoco_py/gl\n",
            "x86_64-linux-gnu-gcc -pthread -Wno-unused-result -Wsign-compare -DNDEBUG -g -fwrapv -O2 -Wall -g -fstack-protector-strong -Wformat -Werror=format-security -g -fwrapv -O2 -g -fstack-protector-strong -Wformat -Werror=format-security -Wdate-time -D_FORTIFY_SOURCE=2 -fPIC -I/usr/local/lib/python3.9/dist-packages/mujoco_py -I/root/.mujoco/mujoco210/include -I/usr/local/lib/python3.9/dist-packages/numpy/core/include -I/usr/include/python3.9 -c /usr/local/lib/python3.9/dist-packages/mujoco_py/cymj.c -o /usr/local/lib/python3.9/dist-packages/mujoco_py/generated/_pyxbld_2.1.2.14_39_linuxcpuextensionbuilder/temp.linux-x86_64-3.9/usr/local/lib/python3.9/dist-packages/mujoco_py/cymj.o -fopenmp -w\n",
            "x86_64-linux-gnu-gcc -pthread -Wno-unused-result -Wsign-compare -DNDEBUG -g -fwrapv -O2 -Wall -g -fstack-protector-strong -Wformat -Werror=format-security -g -fwrapv -O2 -g -fstack-protector-strong -Wformat -Werror=format-security -Wdate-time -D_FORTIFY_SOURCE=2 -fPIC -I/usr/local/lib/python3.9/dist-packages/mujoco_py -I/root/.mujoco/mujoco210/include -I/usr/local/lib/python3.9/dist-packages/numpy/core/include -I/usr/include/python3.9 -c /usr/local/lib/python3.9/dist-packages/mujoco_py/gl/osmesashim.c -o /usr/local/lib/python3.9/dist-packages/mujoco_py/generated/_pyxbld_2.1.2.14_39_linuxcpuextensionbuilder/temp.linux-x86_64-3.9/usr/local/lib/python3.9/dist-packages/mujoco_py/gl/osmesashim.o -fopenmp -w\n",
            "creating /usr/local/lib/python3.9/dist-packages/mujoco_py/generated/_pyxbld_2.1.2.14_39_linuxcpuextensionbuilder/lib.linux-x86_64-3.9\n",
            "creating /usr/local/lib/python3.9/dist-packages/mujoco_py/generated/_pyxbld_2.1.2.14_39_linuxcpuextensionbuilder/lib.linux-x86_64-3.9/mujoco_py\n",
            "x86_64-linux-gnu-gcc -pthread -shared -Wl,-O1 -Wl,-Bsymbolic-functions -Wl,-Bsymbolic-functions -g -fwrapv -O2 -Wl,-Bsymbolic-functions -g -fwrapv -O2 -g -fstack-protector-strong -Wformat -Werror=format-security -Wdate-time -D_FORTIFY_SOURCE=2 /usr/local/lib/python3.9/dist-packages/mujoco_py/generated/_pyxbld_2.1.2.14_39_linuxcpuextensionbuilder/temp.linux-x86_64-3.9/usr/local/lib/python3.9/dist-packages/mujoco_py/cymj.o /usr/local/lib/python3.9/dist-packages/mujoco_py/generated/_pyxbld_2.1.2.14_39_linuxcpuextensionbuilder/temp.linux-x86_64-3.9/usr/local/lib/python3.9/dist-packages/mujoco_py/gl/osmesashim.o -L/root/.mujoco/mujoco210/bin -Wl,--enable-new-dtags,-R/root/.mujoco/mujoco210/bin -lmujoco210 -lglewosmesa -lOSMesa -lGL -o /usr/local/lib/python3.9/dist-packages/mujoco_py/generated/_pyxbld_2.1.2.14_39_linuxcpuextensionbuilder/lib.linux-x86_64-3.9/mujoco_py/cymj.cpython-39-x86_64-linux-gnu.so -fopenmp\n"
          ]
        }
      ],
      "source": [
        "#Include this at the top of your colab code\n",
        "import os\n",
        "if not os.path.exists('.mujoco_setup_complete'):\n",
        "  # Get the prereqs\n",
        "  !apt-get -qq update\n",
        "  !apt-get -qq install -y libosmesa6-dev libgl1-mesa-glx libglfw3 libgl1-mesa-dev libglew-dev patchelf\n",
        "  # Get Mujoco\n",
        "  !mkdir ~/.mujoco\n",
        "  !wget -q https://mujoco.org/download/mujoco210-linux-x86_64.tar.gz -O mujoco.tar.gz\n",
        "  !tar -zxf mujoco.tar.gz -C \"$HOME/.mujoco\"\n",
        "  !rm mujoco.tar.gz\n",
        "  # Add it to the actively loaded path and the bashrc path (these only do so much)\n",
        "  !echo 'export LD_LIBRARY_PATH=$LD_LIBRARY_PATH:$HOME/.mujoco/mujoco210/bin' >> ~/.bashrc \n",
        "  !echo 'export LD_PRELOAD=$LD_PRELOAD:/usr/lib/x86_64-linux-gnu/libGLEW.so' >> ~/.bashrc \n",
        "  # THE ANNOYING ONE, FORCE IT INTO LDCONFIG SO WE ACTUALLY GET ACCESS TO IT THIS SESSION\n",
        "  !echo \"/root/.mujoco/mujoco210/bin\" > /etc/ld.so.conf.d/mujoco_ld_lib_path.conf\n",
        "  !ldconfig\n",
        "  # Install Mujoco-py\n",
        "  !pip3 install -U 'mujoco-py<2.2,>=2.1'\n",
        "  # run once\n",
        "  !touch .mujoco_setup_complete\n",
        "\n",
        "try:\n",
        "  if _mujoco_run_once:\n",
        "    pass\n",
        "except NameError:\n",
        "  _mujoco_run_once = False\n",
        "if not _mujoco_run_once:\n",
        "  # Add it to the actively loaded path and the bashrc path (these only do so much)\n",
        "  try:\n",
        "    os.environ['LD_LIBRARY_PATH']=os.environ['LD_LIBRARY_PATH'] + ':/root/.mujoco/mujoco210/bin'\n",
        "    os.environ['LD_LIBRARY_PATH']=os.environ['LD_LIBRARY_PATH'] + ':/usr/lib/nvidia'\n",
        "  except KeyError:\n",
        "    os.environ['LD_LIBRARY_PATH']='/root/.mujoco/mujoco210/bin'\n",
        "  try:\n",
        "    os.environ['LD_PRELOAD']=os.environ['LD_PRELOAD'] + ':/usr/lib/x86_64-linux-gnu/libGLEW.so'\n",
        "  except KeyError:\n",
        "    os.environ['LD_PRELOAD']='/usr/lib/x86_64-linux-gnu/libGLEW.so'\n",
        "  # presetup so we don't see output on first env initialization\n",
        "  import mujoco_py\n",
        "  _mujoco_run_once = True"
      ]
    },
    {
      "cell_type": "code",
      "source": [
        "!pip install git+https://github.com/tinkoff-ai/d4rl@master#egg=d4rl"
      ],
      "metadata": {
        "colab": {
          "base_uri": "https://localhost:8080/"
        },
        "id": "IjfW3W8ucbo7",
        "outputId": "403eba2c-04ba-4cfd-90d9-071224525763"
      },
      "execution_count": 2,
      "outputs": [
        {
          "output_type": "stream",
          "name": "stdout",
          "text": [
            "Looking in indexes: https://pypi.org/simple, https://us-python.pkg.dev/colab-wheels/public/simple/\n",
            "Collecting d4rl\n",
            "  Cloning https://github.com/tinkoff-ai/d4rl (to revision master) to /tmp/pip-install-yv5078cx/d4rl_a1370650e3be4536bbe3a90b461da033\n",
            "  Running command git clone --filter=blob:none --quiet https://github.com/tinkoff-ai/d4rl /tmp/pip-install-yv5078cx/d4rl_a1370650e3be4536bbe3a90b461da033\n",
            "  Resolved https://github.com/tinkoff-ai/d4rl to commit db6e4b34bb5ce2a51dd3879177c0a0223208a614\n",
            "  Preparing metadata (setup.py) ... \u001b[?25l\u001b[?25hdone\n",
            "Collecting mjrl@ git+https://github.com/aravindr93/mjrl@master#egg=mjrl\n",
            "  Cloning https://github.com/aravindr93/mjrl (to revision master) to /tmp/pip-install-yv5078cx/mjrl_11a6c533301a417d86f8d75d6240e05b\n",
            "  Running command git clone --filter=blob:none --quiet https://github.com/aravindr93/mjrl /tmp/pip-install-yv5078cx/mjrl_11a6c533301a417d86f8d75d6240e05b\n",
            "  Resolved https://github.com/aravindr93/mjrl to commit 3871d93763d3b49c4741e6daeaebbc605fe140dc\n",
            "  Preparing metadata (setup.py) ... \u001b[?25l\u001b[?25hdone\n",
            "Collecting gym<0.24.0\n",
            "  Downloading gym-0.23.1.tar.gz (626 kB)\n",
            "\u001b[2K     \u001b[90m━━━━━━━━━━━━━━━━━━━━━━━━━━━━━━━━━━━━━━\u001b[0m \u001b[32m626.2/626.2 KB\u001b[0m \u001b[31m27.6 MB/s\u001b[0m eta \u001b[36m0:00:00\u001b[0m\n",
            "\u001b[?25h  Installing build dependencies ... \u001b[?25l\u001b[?25hdone\n",
            "  Getting requirements to build wheel ... \u001b[?25l\u001b[?25hdone\n",
            "  Preparing metadata (pyproject.toml) ... \u001b[?25l\u001b[?25hdone\n",
            "Requirement already satisfied: numpy in /usr/local/lib/python3.9/dist-packages (from d4rl) (1.22.4)\n",
            "Requirement already satisfied: mujoco_py in /usr/local/lib/python3.9/dist-packages (from d4rl) (2.1.2.14)\n",
            "Collecting pybullet\n",
            "  Downloading pybullet-3.2.5-cp39-cp39-manylinux_2_5_x86_64.manylinux1_x86_64.whl (91.7 MB)\n",
            "\u001b[2K     \u001b[90m━━━━━━━━━━━━━━━━━━━━━━━━━━━━━━━━━━━━━━━━\u001b[0m \u001b[32m91.7/91.7 MB\u001b[0m \u001b[31m11.4 MB/s\u001b[0m eta \u001b[36m0:00:00\u001b[0m\n",
            "\u001b[?25hRequirement already satisfied: h5py in /usr/local/lib/python3.9/dist-packages (from d4rl) (3.8.0)\n",
            "Requirement already satisfied: termcolor in /usr/local/lib/python3.9/dist-packages (from d4rl) (2.2.0)\n",
            "Requirement already satisfied: click in /usr/local/lib/python3.9/dist-packages (from d4rl) (8.1.3)\n",
            "Collecting dm_control>=1.0.3\n",
            "  Downloading dm_control-1.0.11-py3-none-any.whl (39.3 MB)\n",
            "\u001b[2K     \u001b[90m━━━━━━━━━━━━━━━━━━━━━━━━━━━━━━━━━━━━━━━━\u001b[0m \u001b[32m39.3/39.3 MB\u001b[0m \u001b[31m36.2 MB/s\u001b[0m eta \u001b[36m0:00:00\u001b[0m\n",
            "\u001b[?25hRequirement already satisfied: scipy in /usr/local/lib/python3.9/dist-packages (from dm_control>=1.0.3->d4rl) (1.10.1)\n",
            "Collecting dm-env\n",
            "  Downloading dm_env-1.6-py3-none-any.whl (26 kB)\n",
            "Requirement already satisfied: requests in /usr/local/lib/python3.9/dist-packages (from dm_control>=1.0.3->d4rl) (2.27.1)\n",
            "Collecting mujoco>=2.3.3\n",
            "  Downloading mujoco-2.3.3-2-cp39-cp39-manylinux_2_17_x86_64.manylinux2014_x86_64.whl (4.3 MB)\n",
            "\u001b[2K     \u001b[90m━━━━━━━━━━━━━━━━━━━━━━━━━━━━━━━━━━━━━━━━\u001b[0m \u001b[32m4.3/4.3 MB\u001b[0m \u001b[31m101.1 MB/s\u001b[0m eta \u001b[36m0:00:00\u001b[0m\n",
            "\u001b[?25hRequirement already satisfied: setuptools!=50.0.0 in /usr/local/lib/python3.9/dist-packages (from dm_control>=1.0.3->d4rl) (67.6.1)\n",
            "Collecting labmaze\n",
            "  Downloading labmaze-1.0.6-cp39-cp39-manylinux_2_17_x86_64.manylinux2014_x86_64.whl (4.9 MB)\n",
            "\u001b[2K     \u001b[90m━━━━━━━━━━━━━━━━━━━━━━━━━━━━━━━━━━━━━━━━\u001b[0m \u001b[32m4.9/4.9 MB\u001b[0m \u001b[31m71.7 MB/s\u001b[0m eta \u001b[36m0:00:00\u001b[0m\n",
            "\u001b[?25hRequirement already satisfied: lxml in /usr/local/lib/python3.9/dist-packages (from dm_control>=1.0.3->d4rl) (4.9.2)\n",
            "Requirement already satisfied: pyparsing>=3.0.0 in /usr/local/lib/python3.9/dist-packages (from dm_control>=1.0.3->d4rl) (3.0.9)\n",
            "Requirement already satisfied: absl-py>=0.7.0 in /usr/local/lib/python3.9/dist-packages (from dm_control>=1.0.3->d4rl) (1.4.0)\n",
            "Requirement already satisfied: dm-tree!=0.1.2 in /usr/local/lib/python3.9/dist-packages (from dm_control>=1.0.3->d4rl) (0.1.8)\n",
            "Requirement already satisfied: protobuf>=3.19.4 in /usr/local/lib/python3.9/dist-packages (from dm_control>=1.0.3->d4rl) (3.20.3)\n",
            "Requirement already satisfied: pyopengl>=3.1.4 in /usr/local/lib/python3.9/dist-packages (from dm_control>=1.0.3->d4rl) (3.1.6)\n",
            "Requirement already satisfied: glfw in /usr/local/lib/python3.9/dist-packages (from dm_control>=1.0.3->d4rl) (2.5.9)\n",
            "Requirement already satisfied: tqdm in /usr/local/lib/python3.9/dist-packages (from dm_control>=1.0.3->d4rl) (4.65.0)\n",
            "Requirement already satisfied: gym-notices>=0.0.4 in /usr/local/lib/python3.9/dist-packages (from gym<0.24.0->d4rl) (0.0.8)\n",
            "Requirement already satisfied: importlib-metadata>=4.10.0 in /usr/local/lib/python3.9/dist-packages (from gym<0.24.0->d4rl) (6.1.0)\n",
            "Requirement already satisfied: cloudpickle>=1.2.0 in /usr/local/lib/python3.9/dist-packages (from gym<0.24.0->d4rl) (2.2.1)\n",
            "Requirement already satisfied: fasteners~=0.15 in /usr/local/lib/python3.9/dist-packages (from mujoco_py->d4rl) (0.18)\n",
            "Requirement already satisfied: Cython>=0.27.2 in /usr/local/lib/python3.9/dist-packages (from mujoco_py->d4rl) (0.29.34)\n",
            "Requirement already satisfied: cffi>=1.10 in /usr/local/lib/python3.9/dist-packages (from mujoco_py->d4rl) (1.15.1)\n",
            "Requirement already satisfied: imageio>=2.1.2 in /usr/local/lib/python3.9/dist-packages (from mujoco_py->d4rl) (2.25.1)\n",
            "Requirement already satisfied: pycparser in /usr/local/lib/python3.9/dist-packages (from cffi>=1.10->mujoco_py->d4rl) (2.21)\n",
            "Requirement already satisfied: pillow>=8.3.2 in /usr/local/lib/python3.9/dist-packages (from imageio>=2.1.2->mujoco_py->d4rl) (8.4.0)\n",
            "Requirement already satisfied: zipp>=0.5 in /usr/local/lib/python3.9/dist-packages (from importlib-metadata>=4.10.0->gym<0.24.0->d4rl) (3.15.0)\n",
            "Requirement already satisfied: charset-normalizer~=2.0.0 in /usr/local/lib/python3.9/dist-packages (from requests->dm_control>=1.0.3->d4rl) (2.0.12)\n",
            "Requirement already satisfied: urllib3<1.27,>=1.21.1 in /usr/local/lib/python3.9/dist-packages (from requests->dm_control>=1.0.3->d4rl) (1.26.15)\n",
            "Requirement already satisfied: idna<4,>=2.5 in /usr/local/lib/python3.9/dist-packages (from requests->dm_control>=1.0.3->d4rl) (3.4)\n",
            "Requirement already satisfied: certifi>=2017.4.17 in /usr/local/lib/python3.9/dist-packages (from requests->dm_control>=1.0.3->d4rl) (2022.12.7)\n",
            "Building wheels for collected packages: d4rl, gym, mjrl\n",
            "  Building wheel for d4rl (setup.py) ... \u001b[?25l\u001b[?25hdone\n",
            "  Created wheel for d4rl: filename=d4rl-1.1-py3-none-any.whl size=26412096 sha256=71b148405f5733b807abf70de34a28ad1869de480161aaa79bc2b35797fd3f65\n",
            "  Stored in directory: /tmp/pip-ephem-wheel-cache-6lgfooq0/wheels/41/02/37/f4451771e38edd61c258167d1133c069dd7a2564b7752e2cc9\n",
            "  Building wheel for gym (pyproject.toml) ... \u001b[?25l\u001b[?25hdone\n",
            "  Created wheel for gym: filename=gym-0.23.1-py3-none-any.whl size=701374 sha256=82d6ac817563863279d39e1d7eb5dddc4094b007b9bb1363e2530f4b161d4808\n",
            "  Stored in directory: /root/.cache/pip/wheels/4e/be/7e/92a54668db96883e38ce60a9249dc55de7cd6eee49e7311940\n",
            "  Building wheel for mjrl (setup.py) ... \u001b[?25l\u001b[?25hdone\n",
            "  Created wheel for mjrl: filename=mjrl-1.0.0-py3-none-any.whl size=61954 sha256=39230ca39d3fa3c54755733939a5bae0734a1d103b87d5232b0e3cc15eb4123e\n",
            "  Stored in directory: /tmp/pip-ephem-wheel-cache-6lgfooq0/wheels/f4/3e/63/a8fcfedc1d6b33f99f6e2a29e97bdef827b5471c4f34c0ded0\n",
            "Successfully built d4rl gym mjrl\n",
            "Installing collected packages: pybullet, mjrl, mujoco, labmaze, dm-env, gym, dm_control, d4rl\n",
            "  Attempting uninstall: gym\n",
            "    Found existing installation: gym 0.25.2\n",
            "    Uninstalling gym-0.25.2:\n",
            "      Successfully uninstalled gym-0.25.2\n",
            "Successfully installed d4rl-1.1 dm-env-1.6 dm_control-1.0.11 gym-0.23.1 labmaze-1.0.6 mjrl-1.0.0 mujoco-2.3.3 pybullet-3.2.5\n"
          ]
        }
      ]
    },
    {
      "cell_type": "code",
      "source": [
        "!pip install wandb"
      ],
      "metadata": {
        "colab": {
          "base_uri": "https://localhost:8080/"
        },
        "id": "ED1hITsPdaT8",
        "outputId": "5acfde7c-c8a6-4272-fd69-2a47cc655af8"
      },
      "execution_count": 3,
      "outputs": [
        {
          "output_type": "stream",
          "name": "stdout",
          "text": [
            "Looking in indexes: https://pypi.org/simple, https://us-python.pkg.dev/colab-wheels/public/simple/\n",
            "Collecting wandb\n",
            "  Downloading wandb-0.14.2-py3-none-any.whl (2.0 MB)\n",
            "\u001b[2K     \u001b[90m━━━━━━━━━━━━━━━━━━━━━━━━━━━━━━━━━━━━━━━━\u001b[0m \u001b[32m2.0/2.0 MB\u001b[0m \u001b[31m54.0 MB/s\u001b[0m eta \u001b[36m0:00:00\u001b[0m\n",
            "\u001b[?25hCollecting GitPython!=3.1.29,>=1.0.0\n",
            "  Downloading GitPython-3.1.31-py3-none-any.whl (184 kB)\n",
            "\u001b[2K     \u001b[90m━━━━━━━━━━━━━━━━━━━━━━━━━━━━━━━━━━━━━━\u001b[0m \u001b[32m184.3/184.3 KB\u001b[0m \u001b[31m25.6 MB/s\u001b[0m eta \u001b[36m0:00:00\u001b[0m\n",
            "\u001b[?25hCollecting sentry-sdk>=1.0.0\n",
            "  Downloading sentry_sdk-1.19.1-py2.py3-none-any.whl (199 kB)\n",
            "\u001b[2K     \u001b[90m━━━━━━━━━━━━━━━━━━━━━━━━━━━━━━━━━━━━━━\u001b[0m \u001b[32m199.2/199.2 KB\u001b[0m \u001b[31m20.5 MB/s\u001b[0m eta \u001b[36m0:00:00\u001b[0m\n",
            "\u001b[?25hCollecting pathtools\n",
            "  Downloading pathtools-0.1.2.tar.gz (11 kB)\n",
            "  Preparing metadata (setup.py) ... \u001b[?25l\u001b[?25hdone\n",
            "Requirement already satisfied: Click!=8.0.0,>=7.0 in /usr/local/lib/python3.9/dist-packages (from wandb) (8.1.3)\n",
            "Requirement already satisfied: requests<3,>=2.0.0 in /usr/local/lib/python3.9/dist-packages (from wandb) (2.27.1)\n",
            "Requirement already satisfied: appdirs>=1.4.3 in /usr/local/lib/python3.9/dist-packages (from wandb) (1.4.4)\n",
            "Collecting setproctitle\n",
            "  Downloading setproctitle-1.3.2-cp39-cp39-manylinux_2_5_x86_64.manylinux1_x86_64.manylinux_2_17_x86_64.manylinux2014_x86_64.whl (30 kB)\n",
            "Requirement already satisfied: PyYAML in /usr/local/lib/python3.9/dist-packages (from wandb) (6.0)\n",
            "Requirement already satisfied: setuptools in /usr/local/lib/python3.9/dist-packages (from wandb) (67.6.1)\n",
            "Requirement already satisfied: typing-extensions in /usr/local/lib/python3.9/dist-packages (from wandb) (4.5.0)\n",
            "Requirement already satisfied: psutil>=5.0.0 in /usr/local/lib/python3.9/dist-packages (from wandb) (5.9.4)\n",
            "Requirement already satisfied: protobuf!=4.21.0,<5,>=3.15.0 in /usr/local/lib/python3.9/dist-packages (from wandb) (3.20.3)\n",
            "Collecting docker-pycreds>=0.4.0\n",
            "  Downloading docker_pycreds-0.4.0-py2.py3-none-any.whl (9.0 kB)\n",
            "Requirement already satisfied: six>=1.4.0 in /usr/local/lib/python3.9/dist-packages (from docker-pycreds>=0.4.0->wandb) (1.16.0)\n",
            "Collecting gitdb<5,>=4.0.1\n",
            "  Downloading gitdb-4.0.10-py3-none-any.whl (62 kB)\n",
            "\u001b[2K     \u001b[90m━━━━━━━━━━━━━━━━━━━━━━━━━━━━━━━━━━━━━━━━\u001b[0m \u001b[32m62.7/62.7 KB\u001b[0m \u001b[31m1.9 MB/s\u001b[0m eta \u001b[36m0:00:00\u001b[0m\n",
            "\u001b[?25hRequirement already satisfied: certifi>=2017.4.17 in /usr/local/lib/python3.9/dist-packages (from requests<3,>=2.0.0->wandb) (2022.12.7)\n",
            "Requirement already satisfied: urllib3<1.27,>=1.21.1 in /usr/local/lib/python3.9/dist-packages (from requests<3,>=2.0.0->wandb) (1.26.15)\n",
            "Requirement already satisfied: charset-normalizer~=2.0.0 in /usr/local/lib/python3.9/dist-packages (from requests<3,>=2.0.0->wandb) (2.0.12)\n",
            "Requirement already satisfied: idna<4,>=2.5 in /usr/local/lib/python3.9/dist-packages (from requests<3,>=2.0.0->wandb) (3.4)\n",
            "Collecting smmap<6,>=3.0.1\n",
            "  Downloading smmap-5.0.0-py3-none-any.whl (24 kB)\n",
            "Building wheels for collected packages: pathtools\n",
            "  Building wheel for pathtools (setup.py) ... \u001b[?25l\u001b[?25hdone\n",
            "  Created wheel for pathtools: filename=pathtools-0.1.2-py3-none-any.whl size=8807 sha256=c14e238fcb1e2dd0af445239e63835a41431889c5e6969782986962b1f53f28d\n",
            "  Stored in directory: /root/.cache/pip/wheels/b7/0a/67/ada2a22079218c75a88361c0782855cc72aebc4d18d0289d05\n",
            "Successfully built pathtools\n",
            "Installing collected packages: pathtools, smmap, setproctitle, sentry-sdk, docker-pycreds, gitdb, GitPython, wandb\n",
            "Successfully installed GitPython-3.1.31 docker-pycreds-0.4.0 gitdb-4.0.10 pathtools-0.1.2 sentry-sdk-1.19.1 setproctitle-1.3.2 smmap-5.0.0 wandb-0.14.2\n"
          ]
        }
      ]
    },
    {
      "cell_type": "code",
      "source": [
        "import random\n",
        "import numpy as np\n",
        "import torch\n",
        "import gym\n",
        "import argparse\n",
        "import os\n",
        "import d4rl\n",
        "import tqdm\n",
        "import time\n",
        "import wandb\n",
        "\n",
        "import torch.nn.functional as F"
      ],
      "metadata": {
        "colab": {
          "base_uri": "https://localhost:8080/"
        },
        "id": "AdKm1ExKdpt1",
        "outputId": "d0a00c7a-57db-441c-f9d4-9733f7d2894c"
      },
      "execution_count": 4,
      "outputs": [
        {
          "output_type": "stream",
          "name": "stderr",
          "text": [
            "Warning: Flow failed to import. Set the environment variable D4RL_SUPPRESS_IMPORT_ERROR=1 to suppress this message.\n",
            "No module named 'flow'\n",
            "/usr/local/lib/python3.9/dist-packages/glfw/__init__.py:916: GLFWError: (65544) b'X11: The DISPLAY environment variable is missing'\n",
            "  warnings.warn(message, GLFWError)\n",
            "Warning: CARLA failed to import. Set the environment variable D4RL_SUPPRESS_IMPORT_ERROR=1 to suppress this message.\n",
            "No module named 'carla'\n"
          ]
        }
      ]
    },
    {
      "cell_type": "code",
      "source": [
        "import utils\n",
        "import redq_bc\n",
        "import TD3_BC"
      ],
      "metadata": {
        "id": "9-_RVgAnfxjk",
        "colab": {
          "base_uri": "https://localhost:8080/",
          "height": 460
        },
        "outputId": "6a2f4fd3-f2a8-4d0f-d9d3-509a9ecc3bd8"
      },
      "execution_count": 8,
      "outputs": [
        {
          "output_type": "error",
          "ename": "ModuleNotFoundError",
          "evalue": "ignored",
          "traceback": [
            "\u001b[0;31m---------------------------------------------------------------------------\u001b[0m",
            "\u001b[0;31mModuleNotFoundError\u001b[0m                       Traceback (most recent call last)",
            "\u001b[0;32m<ipython-input-8-fcf45c219fcd>\u001b[0m in \u001b[0;36m<cell line: 1>\u001b[0;34m()\u001b[0m\n\u001b[0;32m----> 1\u001b[0;31m \u001b[0;32mimport\u001b[0m \u001b[0mutils\u001b[0m\u001b[0;34m\u001b[0m\u001b[0;34m\u001b[0m\u001b[0m\n\u001b[0m\u001b[1;32m      2\u001b[0m \u001b[0;32mimport\u001b[0m \u001b[0mredq_bc\u001b[0m\u001b[0;34m\u001b[0m\u001b[0;34m\u001b[0m\u001b[0m\n\u001b[1;32m      3\u001b[0m \u001b[0;32mimport\u001b[0m \u001b[0mTD3_BC\u001b[0m\u001b[0;34m\u001b[0m\u001b[0;34m\u001b[0m\u001b[0m\n",
            "\u001b[0;32m/content/utils.py\u001b[0m in \u001b[0;36m<module>\u001b[0;34m\u001b[0m\n\u001b[1;32m      2\u001b[0m \u001b[0;32mimport\u001b[0m \u001b[0mtorch\u001b[0m\u001b[0;34m\u001b[0m\u001b[0;34m\u001b[0m\u001b[0m\n\u001b[1;32m      3\u001b[0m \u001b[0;32mimport\u001b[0m \u001b[0mgym\u001b[0m\u001b[0;34m\u001b[0m\u001b[0;34m\u001b[0m\u001b[0m\n\u001b[0;32m----> 4\u001b[0;31m \u001b[0;32mimport\u001b[0m \u001b[0md4rl\u001b[0m\u001b[0;34m\u001b[0m\u001b[0;34m\u001b[0m\u001b[0m\n\u001b[0m\u001b[1;32m      5\u001b[0m \u001b[0;34m\u001b[0m\u001b[0m\n\u001b[1;32m      6\u001b[0m \u001b[0;32mclass\u001b[0m \u001b[0mReplayBuffer\u001b[0m\u001b[0;34m(\u001b[0m\u001b[0mobject\u001b[0m\u001b[0;34m)\u001b[0m\u001b[0;34m:\u001b[0m\u001b[0;34m\u001b[0m\u001b[0;34m\u001b[0m\u001b[0m\n",
            "\u001b[0;31mModuleNotFoundError\u001b[0m: No module named 'd4rl'",
            "",
            "\u001b[0;31m---------------------------------------------------------------------------\u001b[0;32m\nNOTE: If your import is failing due to a missing package, you can\nmanually install dependencies using either !pip or !apt.\n\nTo view examples of installing some common dependencies, click the\n\"Open Examples\" button below.\n\u001b[0;31m---------------------------------------------------------------------------\u001b[0m\n"
          ],
          "errorDetails": {
            "actions": [
              {
                "action": "open_url",
                "actionText": "Open Examples",
                "url": "/notebooks/snippets/importing_libraries.ipynb"
              }
            ]
          }
        }
      ]
    },
    {
      "cell_type": "markdown",
      "source": [
        "# Реализация метода Adaptive Behavior Cloning Regularization"
      ],
      "metadata": {
        "id": "J-TnLFaA0fWL"
      }
    },
    {
      "cell_type": "code",
      "source": [
        "# These values are used to replace the target_R\n",
        "R_MAX_CHEETAH = 15.743\n",
        "R_MAX_WALKER = 10.271\n",
        "R_MAX_HOPPER = 6.918\n",
        "\n",
        "\n",
        "parser = argparse.ArgumentParser()    # Experiment\n",
        "parser.add_argument(\"-policy\", \"--policy\", default=\"REDQ_BC\")                      # Policy name\n",
        "\n",
        "parser.add_argument(\"-env\", \"--env\", default=\"hopper-medium-replay-v0\")         # d4rl environment name\n",
        "parser.add_argument(\"-seed\", \"--seed\", default=0, type=int)                      # Random Seed\n",
        "parser.add_argument(\"-eval_freq\", \"--eval_freq\", default=500, type=int)              # How often (time steps) we evaluate\n",
        "parser.add_argument(\"-max_timesteps\", \"--max_timesteps\", default=250, type=int)       # Max finetuning timesteps to run\n",
        "parser.add_argument(\"-pretrain_timesteps\", \"--pretrain_timesteps\", default=1000, type=int)\n",
        "parser.add_argument(\"-num_updates\", \"--num_updates\", type=int, default=10, help='Num of update steps per data point.')\n",
        "parser.add_argument(\"-save_model\", \"--save_model\", action=\"store_true\")                # Save model and optimizer parameters\n",
        "parser.add_argument(\"-load_policy_id\", \"--load_policy_id\", default=\"\")                     # Load policy and optimizer with the given id\n",
        "parser.add_argument(\"-episode_length\", \"--episode_length\", default=1000, type=int)\n",
        "# TD3\n",
        "parser.add_argument(\"-expl_noise\", \"--expl_noise\", default=0.1)                        # Std of Gaussian exploration noise\n",
        "parser.add_argument(\"-batch_size\", \"--batch_size\", default=256, type=int)              # Batch size for both actor and critic\n",
        "parser.add_argument(\"-discount\", \"--discount\", default=0.99)                         # Discount factor\n",
        "parser.add_argument(\"-tau\", \"--tau\", default=0.005)                             # Target network update rate\n",
        "parser.add_argument(\"-policy_noise\", \"--policy_noise\", default=0.2)                      # Noise added to target policy during critic update\n",
        "parser.add_argument(\"-noise_clip\", \"--noise_clip\", default=0.5)                        # Range to clip target policy noise\n",
        "parser.add_argument(\"-policy_freq\", \"--policy_freq\", default=2, type=int)               # Frequency of delayed policy updates\n",
        "# ablation, dataset\n",
        "parser.add_argument('-sample_method', '--sample_method', choices=['random', 'best'], default='random')\n",
        "parser.add_argument('-sample_ratio', '--sample_ratio', type=float, default=0.05)\n",
        "# ablation, q_update\n",
        "parser.add_argument('-use_q_min', '--use_q_min', action='store_true')\n",
        "# adaptive alpha\n",
        "parser.add_argument('-Kp', '--Kp', type=float, default=0.00003)\n",
        "parser.add_argument('-Kd', '--Kd', type=float, default=0.0001)\n",
        "# ablation, avoid using the target_R\n",
        "parser.add_argument(\"-use_r_max\", \"--use_r_max\", action='store_true') # if True, the return will normalized by the R_MAX * T\n",
        "\n",
        "args = parser.parse_args('')"
      ],
      "metadata": {
        "id": "HGT5IXyC_Dh9"
      },
      "execution_count": 8,
      "outputs": []
    },
    {
      "cell_type": "code",
      "source": [
        "# get task-specific args\n",
        "if args.env == \"walker2d-random-v0\":\n",
        "    args.alpha = 100\n",
        "    args.alpha_finetune = 0.4\n",
        "elif args.env in ['pen-expert-v0', 'door-expert-v0', 'hammer-expert-v0', 'relocate-expert-v0']:\n",
        "    # these tasks need larger constraints during pretraining.\n",
        "    args.alpha = 8.0\n",
        "    args.alpha_finetune = 8.0\n",
        "    # change the Kp and Kd accordingly\n",
        "    args.Kp = (args.alpha / 0.4) * args.Kp # 0.4 is the default value for locomotion tasks\n",
        "    args.Kd = (args.alpha / 0.4) * args.Kd\n",
        "    # change the num_updates -- fix it to 1\n",
        "    args.num_updates = 1\n",
        "else: # default value for all locomotion tasks except the 'walker2d-random-v0'\n",
        "    args.alpha = 0.4\n",
        "    args.alpha_finetune = 0.4\n",
        "print(args)    \n",
        "    \n",
        "\n",
        "# use R_MAX * T to normalize the reward, and as target return\n",
        "# This is only needed when no target_R is available.\n",
        "if args.use_r_max:\n",
        "    domain = str(args.env).split('-')[0]\n",
        "    if domain == \"halfcheetah\":\n",
        "        max_R = R_MAX_CHEETAH * args.episode_length\n",
        "    elif domain == \"walker2d\":\n",
        "        max_R = R_MAX_WALKER * args.episode_length\n",
        "    elif domain == \"hopper\":\n",
        "        max_R = R_MAX_HOPPER * args.episode_length\n",
        "    else:\n",
        "        raise ValueError\n",
        "\n",
        "\n",
        "run_id = int(time.time())\n",
        "run_name = f\"{args.policy}_{args.env}_{args.seed}_{run_id}\"\n",
        "\n",
        "if args.save_model:\n",
        "    if not os.path.exists(f\"./models/{args.env}/pretrain\"):\n",
        "        os.makedirs(f\"./models/{args.env}/pretrain\")\n",
        "    if not os.path.exists(f\"./models/{args.env}/finetune\"):\n",
        "        os.makedirs(f\"./models/{args.env}/finetune\")\n",
        "    else:\n",
        "        print(f\"The pretrained model will be stored under path: ./models/{args.env}/pretrain; The finetuned model will be stored under path: ./models/{args.env}/finetune\")\n",
        "\n",
        "# seeding and setup env\n",
        "env = gym.make(args.env)\n",
        "random.seed(args.seed)\n",
        "np.random.seed(args.seed)\n",
        "torch.manual_seed(args.seed)\n",
        "\n",
        "env.seed(args.seed)\n",
        "env.action_space.seed(args.seed)\n",
        "env.observation_space.seed(args.seed)\n",
        "\n",
        "\n",
        "state_dim = env.observation_space.shape[0]\n",
        "action_dim = env.action_space.shape[0] \n",
        "max_action = float(env.action_space.high[0])\n",
        "   "
      ],
      "metadata": {
        "colab": {
          "base_uri": "https://localhost:8080/"
        },
        "id": "OBNklE6GegG-",
        "outputId": "5ecb71a7-f90c-42dc-9e4e-8b26c03a47c9"
      },
      "execution_count": 9,
      "outputs": [
        {
          "output_type": "stream",
          "name": "stdout",
          "text": [
            "Namespace(policy='REDQ_BC', env='hopper-medium-replay-v0', seed=0, eval_freq=500, max_timesteps=250, pretrain_timesteps=1000, num_updates=10, save_model=False, load_policy_id='', episode_length=1000, expl_noise=0.1, batch_size=256, discount=0.99, tau=0.005, policy_noise=0.2, noise_clip=0.5, policy_freq=2, sample_method='random', sample_ratio=0.05, use_q_min=False, Kp=3e-05, Kd=0.0001, use_r_max=False, alpha=0.4, alpha_finetune=0.4)\n"
          ]
        },
        {
          "output_type": "stream",
          "name": "stderr",
          "text": [
            "/usr/local/lib/python3.9/dist-packages/gym/envs/registration.py:505: UserWarning: \u001b[33mWARN: The environment hopper-medium-replay-v0 is out of date. You should consider upgrading to version `v2` with the environment ID `hopper-medium-replay-v2`.\u001b[0m\n",
            "  logger.warn(\n",
            "/usr/local/lib/python3.9/dist-packages/d4rl/gym_mujoco/gym_envs.py:13: UserWarning: \u001b[33mThis environment is deprecated. Please use the most recent version of this environment.\u001b[0m\n",
            "  offline_env.OfflineEnv.__init__(self, **kwargs)\n",
            "/usr/local/lib/python3.9/dist-packages/gym/spaces/box.py:84: UserWarning: \u001b[33mWARN: Box bound precision lowered by casting to float32\u001b[0m\n",
            "  logger.warn(f\"Box bound precision lowered by casting to {self.dtype}\")\n",
            "/usr/local/lib/python3.9/dist-packages/gym/core.py:172: DeprecationWarning: \u001b[33mWARN: Function `env.seed(seed)` is marked as deprecated and will be removed in the future. Please use `env.reset(seed=seed) instead.\u001b[0m\n",
            "  deprecation(\n"
          ]
        }
      ]
    },
    {
      "cell_type": "code",
      "source": [
        "# init d4rl_buffer\n",
        "d4rl_replay_buffer = utils.ReplayBuffer(state_dim, action_dim)\n",
        "d4rl_replay_buffer.convert_D4RL(d4rl.qlearning_dataset(env)) # fill buffer\n",
        "\n",
        "\n",
        "# init policy\n",
        "kwargs = {\n",
        "    \"state_dim\": state_dim, \n",
        "    \"action_dim\": action_dim,\n",
        "    \"max_action\": max_action,\n",
        "    \"discount\": args.discount,\n",
        "    \"tau\": args.tau, \n",
        "    \"policy_noise\": args.policy_noise,\n",
        "    \"noise_clip\": args.noise_clip,\n",
        "    \"policy_freq\": args.policy_freq,\n",
        "    \"alpha\": args.alpha,\n",
        "    \"use_q_min\": args.use_q_min,\n",
        "    \"pretrain\": True,\n",
        "}\n",
        "policy = redq_bc.REDQ_BC(**kwargs)"
      ],
      "metadata": {
        "colab": {
          "base_uri": "https://localhost:8080/"
        },
        "id": "e4Udzhm2embb",
        "outputId": "c8d516d2-4053-43b6-e5ca-c5516044d307"
      },
      "execution_count": 10,
      "outputs": [
        {
          "output_type": "stream",
          "name": "stdout",
          "text": [
            "Downloading dataset: http://rail.eecs.berkeley.edu/datasets/offline_rl/gym_mujoco/hopper_mixed.hdf5 to /root/.d4rl/datasets/hopper_mixed.hdf5\n"
          ]
        },
        {
          "output_type": "stream",
          "name": "stderr",
          "text": [
            "load datafile: 100%|██████████| 5/5 [00:00<00:00, 51.51it/s]\n"
          ]
        }
      ]
    },
    {
      "cell_type": "code",
      "source": [
        "########## Load or Pretrain the model with d4rl dataset. ##########\n",
        "# load/pretrain policy\n",
        "if args.load_policy_id != \"\":\n",
        "    policy_file = f'{args.policy}_{args.env}' if args.load_policy_id == \"default\" else f'{args.policy}_{args.env}_{0}_{args.load_policy_id}'\n",
        "    policy.load(f\"./models/{args.env}/pretrain/{policy_file}\")\n",
        "    print(f\"------ Load policy model {policy_file} ------\")\n",
        "else: # finetune\n",
        "    with wandb.init(project='TLab', group=args.env, job_type=\"pretrain\", name=run_name):\n",
        "        wandb.config.update(args)\n",
        "        for i in tqdm.tqdm(range(args.pretrain_timesteps)):\n",
        "            batch = d4rl_replay_buffer.sample(args.batch_size)\n",
        "            pretrain_info = policy.train(batch)\n",
        "            wandb.log({\"pretrain_training/\": pretrain_info})\n",
        "        \n",
        "            if i % args.eval_freq == 0:\n",
        "                pretrain_eval = utils.eval_policy(policy, args.env, args.seed)\n",
        "                wandb.log({'pretrain_evaluation/': pretrain_eval})\n",
        "        # save policy\n",
        "        if args.save_model: policy.save(f'./models/{args.env}/pretrain/{run_name}') "
      ],
      "metadata": {
        "colab": {
          "base_uri": "https://localhost:8080/",
          "height": 396,
          "referenced_widgets": [
            "62bd1636efb4404ea3dcce536f9036a9",
            "ccd77d5cc2844f6ea96a66ca695c53d3",
            "276cb1238cc143e2b6ce32f86fcc962a",
            "2614824de544463997446ccc4d828ad3",
            "ffb0c977c81a48438f9ef0731f5bc037",
            "27092b819ba448a6af2d5af289dfe273",
            "9e96980075ae4d5ea03c5a929ee14d5a",
            "eab36f0ac5e1453bb9c18339b552b110"
          ]
        },
        "id": "UX_u1nRmm7lF",
        "outputId": "fa31b1a5-b998-44f4-d204-5d62f99e6edd"
      },
      "execution_count": 11,
      "outputs": [
        {
          "output_type": "display_data",
          "data": {
            "text/plain": [
              "<IPython.core.display.Javascript object>"
            ],
            "application/javascript": [
              "\n",
              "        window._wandbApiKey = new Promise((resolve, reject) => {\n",
              "            function loadScript(url) {\n",
              "            return new Promise(function(resolve, reject) {\n",
              "                let newScript = document.createElement(\"script\");\n",
              "                newScript.onerror = reject;\n",
              "                newScript.onload = resolve;\n",
              "                document.body.appendChild(newScript);\n",
              "                newScript.src = url;\n",
              "            });\n",
              "            }\n",
              "            loadScript(\"https://cdn.jsdelivr.net/npm/postmate/build/postmate.min.js\").then(() => {\n",
              "            const iframe = document.createElement('iframe')\n",
              "            iframe.style.cssText = \"width:0;height:0;border:none\"\n",
              "            document.body.appendChild(iframe)\n",
              "            const handshake = new Postmate({\n",
              "                container: iframe,\n",
              "                url: 'https://wandb.ai/authorize'\n",
              "            });\n",
              "            const timeout = setTimeout(() => reject(\"Couldn't auto authenticate\"), 5000)\n",
              "            handshake.then(function(child) {\n",
              "                child.on('authorize', data => {\n",
              "                    clearTimeout(timeout)\n",
              "                    resolve(data)\n",
              "                });\n",
              "            });\n",
              "            })\n",
              "        });\n",
              "    "
            ]
          },
          "metadata": {}
        },
        {
          "output_type": "stream",
          "name": "stderr",
          "text": [
            "\u001b[34m\u001b[1mwandb\u001b[0m: Logging into wandb.ai. (Learn how to deploy a W&B server locally: https://wandb.me/wandb-server)\n",
            "\u001b[34m\u001b[1mwandb\u001b[0m: You can find your API key in your browser here: https://wandb.ai/authorize\n",
            "wandb: Paste an API key from your profile and hit enter, or press ctrl+c to quit:"
          ]
        },
        {
          "name": "stdout",
          "output_type": "stream",
          "text": [
            " ··········\n"
          ]
        },
        {
          "output_type": "stream",
          "name": "stderr",
          "text": [
            "\u001b[34m\u001b[1mwandb\u001b[0m: Appending key for api.wandb.ai to your netrc file: /root/.netrc\n"
          ]
        },
        {
          "output_type": "display_data",
          "data": {
            "text/plain": [
              "<IPython.core.display.HTML object>"
            ],
            "text/html": [
              "Tracking run with wandb version 0.14.2"
            ]
          },
          "metadata": {}
        },
        {
          "output_type": "display_data",
          "data": {
            "text/plain": [
              "<IPython.core.display.HTML object>"
            ],
            "text/html": [
              "Run data is saved locally in <code>/content/wandb/run-20230410_140954-xlo69us4</code>"
            ]
          },
          "metadata": {}
        },
        {
          "output_type": "display_data",
          "data": {
            "text/plain": [
              "<IPython.core.display.HTML object>"
            ],
            "text/html": [
              "Syncing run <strong><a href='https://wandb.ai/chedasha/adaptive_bc/runs/xlo69us4' target=\"_blank\">REDQ_BC_hopper-medium-replay-v0_0_1681135745</a></strong> to <a href='https://wandb.ai/chedasha/adaptive_bc' target=\"_blank\">Weights & Biases</a> (<a href='https://wandb.me/run' target=\"_blank\">docs</a>)<br/>"
            ]
          },
          "metadata": {}
        },
        {
          "output_type": "display_data",
          "data": {
            "text/plain": [
              "<IPython.core.display.HTML object>"
            ],
            "text/html": [
              " View project at <a href='https://wandb.ai/chedasha/adaptive_bc' target=\"_blank\">https://wandb.ai/chedasha/adaptive_bc</a>"
            ]
          },
          "metadata": {}
        },
        {
          "output_type": "display_data",
          "data": {
            "text/plain": [
              "<IPython.core.display.HTML object>"
            ],
            "text/html": [
              " View run at <a href='https://wandb.ai/chedasha/adaptive_bc/runs/xlo69us4' target=\"_blank\">https://wandb.ai/chedasha/adaptive_bc/runs/xlo69us4</a>"
            ]
          },
          "metadata": {}
        },
        {
          "output_type": "stream",
          "name": "stderr",
          "text": [
            "\r  0%|          | 0/1000 [00:00<?, ?it/s]/content/redq_bc.py:156: UserWarning: Using a target size (torch.Size([256, 1])) that is different to the input size (torch.Size([1, 10, 256, 1])). This will likely lead to incorrect results due to broadcasting. Please ensure they have the same size.\n",
            "  critic_loss = F.mse_loss(current_Qs.unsqueeze(0), target_Q)\n",
            "100%|██████████| 1000/1000 [00:10<00:00, 98.99it/s]\n"
          ]
        },
        {
          "output_type": "display_data",
          "data": {
            "text/plain": [
              "<IPython.core.display.HTML object>"
            ],
            "text/html": [
              "Waiting for W&B process to finish... <strong style=\"color:green\">(success).</strong>"
            ]
          },
          "metadata": {}
        },
        {
          "output_type": "display_data",
          "data": {
            "text/plain": [
              "VBox(children=(Label(value='0.001 MB of 0.001 MB uploaded (0.000 MB deduped)\\r'), FloatProgress(value=1.0, max…"
            ],
            "application/vnd.jupyter.widget-view+json": {
              "version_major": 2,
              "version_minor": 0,
              "model_id": "62bd1636efb4404ea3dcce536f9036a9"
            }
          },
          "metadata": {}
        },
        {
          "output_type": "display_data",
          "data": {
            "text/plain": [
              "<IPython.core.display.HTML object>"
            ],
            "text/html": [
              " View run <strong style=\"color:#cdcd00\">REDQ_BC_hopper-medium-replay-v0_0_1681135745</strong> at: <a href='https://wandb.ai/chedasha/adaptive_bc/runs/xlo69us4' target=\"_blank\">https://wandb.ai/chedasha/adaptive_bc/runs/xlo69us4</a><br/>Synced 5 W&B file(s), 0 media file(s), 0 artifact file(s) and 0 other file(s)"
            ]
          },
          "metadata": {}
        },
        {
          "output_type": "display_data",
          "data": {
            "text/plain": [
              "<IPython.core.display.HTML object>"
            ],
            "text/html": [
              "Find logs at: <code>./wandb/run-20230410_140954-xlo69us4/logs</code>"
            ]
          },
          "metadata": {}
        }
      ]
    },
    {
      "cell_type": "code",
      "source": [
        "########## Begin to finetune the model ##########\n",
        "state, done = env.reset(), False\n",
        "episode_timesteps = 0\n",
        "update_info, eval_info = {}, {}\n",
        "\n",
        "# distill dataset\n",
        "buffer = utils.ReplayBuffer(state_dim, action_dim, max_size=int(args.max_timesteps))\n",
        "buffer.distill(d4rl.qlearning_dataset(env), args.env, args.sample_method, args.sample_ratio)\n",
        "del d4rl_replay_buffer # to save memory\n",
        "\n",
        "\n",
        "policy.alpha = args.alpha_finetune\n",
        "policy.pretrain = False # set flag of pretrain\n",
        "\n",
        "# finetune\n",
        "with wandb.init(project='TLab', group=args.env, job_type=\"finetune\", name=run_name):\n",
        "    wandb.config.update(args)\n",
        "\n",
        "    # init last_R, current_R and target_R\n",
        "    # last_R ranges from 0 to 1\n",
        "    if args.use_r_max:\n",
        "        last_R = utils.eval_policy(policy, args.env, args.seed, eval_episodes=1)['evaluation'] / max_R\n",
        "    else: \n",
        "        last_R  = utils.eval_policy(policy, args.env, args.seed, eval_episodes=1)['d4rl']*0.01 \n",
        "\n",
        "    current_R = last_R\n",
        "    target_R = 1.05\n",
        "\n",
        "\n",
        "    episode_return = 0.\n",
        "    for t in tqdm.tqdm(range(args.max_timesteps)):\n",
        "        episode_timesteps += 1\n",
        "\n",
        "        action = (policy.select_action(state) \n",
        "                + np.random.normal(0, scale=args.expl_noise, size=action_dim)\n",
        "        ).clip(-max_action, max_action)\n",
        "\n",
        "        next_state, reward, done, _ = env.step(action)\n",
        "\n",
        "        episode_return += reward  # recore episode return\n",
        "\n",
        "        done_bool = float(done) if episode_timesteps < env._max_episode_steps else 0. # important!\n",
        "        buffer.add(state, action, next_state, reward, done_bool)\n",
        "\n",
        "        state = next_state\n",
        "            \n",
        "        for _ in range(args.num_updates):\n",
        "            update_info = policy.train(buffer.sample(args.batch_size))\n",
        "\n",
        "        update_info.update({'current_R': current_R, 'last_R': last_R})\n",
        "\n",
        "        wandb.log({'finetune_training/': update_info,\n",
        "                        'finetune_training/alpha': policy.alpha})\n",
        "\n",
        "        if done:\n",
        "            state, done = env.reset(), False\n",
        "                \n",
        "          # update current_R and the alpha of policy\n",
        "            if args.use_r_max:\n",
        "                current_R = episode_return / max_R\n",
        "            else:\n",
        "                current_R = env.get_normalized_score(episode_return)\n",
        "\n",
        "            policy.alpha += episode_timesteps * (- args.Kp * (target_R - last_R)\n",
        "                              + args.Kd * max(0, last_R - current_R))\n",
        "            # clip the alpha value between 0.0 and 0.4\n",
        "            policy.alpha = max(0., min(policy.alpha, args.alpha_finetune))\n",
        "\n",
        "            # moving average\n",
        "            last_R = 0.05 * current_R + 0.95 * last_R\n",
        "                \n",
        "            episode_timesteps = 0\n",
        "            episode_return = 0.\n",
        "            \n",
        "        # Evaluate episode\n",
        "        if t % args.eval_freq == 0:\n",
        "                eval_info = utils.eval_policy(policy, args.env, args.seed, eval_episodes=10)\n",
        "                wandb.log({'finetune_evaluation/': eval_info})\n",
        "\n",
        "                if args.save_model:\n",
        "                    policy.save(f\"./models/{args.env}/finetune/{run_name}\")"
      ],
      "metadata": {
        "colab": {
          "base_uri": "https://localhost:8080/",
          "height": 407,
          "referenced_widgets": [
            "b590a31bd8d14ad9aa0db1b7a3c197ee",
            "c03862d7b7404d53a7039f719c9a9288",
            "377f67d832fa4961a2e7c41ceac43337",
            "97f401c112764ba4a09b609c28f493df",
            "ce39b5735f7e4f5ab22ebd2ca6b32f3f",
            "ecf99f94d59945fab370221f528aedf9",
            "cc1083b7599c43e98db601b0aa4d8d62",
            "4d4056b427444d97a33d56d544fc5c94"
          ]
        },
        "id": "oxN59X7GgUym",
        "outputId": "fc8ef37a-2411-4128-f129-aa10770a8019"
      },
      "execution_count": 12,
      "outputs": [
        {
          "output_type": "stream",
          "name": "stderr",
          "text": [
            "load datafile: 100%|██████████| 5/5 [00:00<00:00, 51.93it/s]\n",
            "\u001b[34m\u001b[1mwandb\u001b[0m: Currently logged in as: \u001b[33mdasha30050\u001b[0m (\u001b[33mchedasha\u001b[0m). Use \u001b[1m`wandb login --relogin`\u001b[0m to force relogin\n"
          ]
        },
        {
          "output_type": "display_data",
          "data": {
            "text/plain": [
              "<IPython.core.display.HTML object>"
            ],
            "text/html": [
              "Tracking run with wandb version 0.14.2"
            ]
          },
          "metadata": {}
        },
        {
          "output_type": "display_data",
          "data": {
            "text/plain": [
              "<IPython.core.display.HTML object>"
            ],
            "text/html": [
              "Run data is saved locally in <code>/content/wandb/run-20230410_141021-gna4j8tv</code>"
            ]
          },
          "metadata": {}
        },
        {
          "output_type": "display_data",
          "data": {
            "text/plain": [
              "<IPython.core.display.HTML object>"
            ],
            "text/html": [
              "Syncing run <strong><a href='https://wandb.ai/chedasha/adaptive_bc/runs/gna4j8tv' target=\"_blank\">REDQ_BC_hopper-medium-replay-v0_0_1681135745</a></strong> to <a href='https://wandb.ai/chedasha/adaptive_bc' target=\"_blank\">Weights & Biases</a> (<a href='https://wandb.me/run' target=\"_blank\">docs</a>)<br/>"
            ]
          },
          "metadata": {}
        },
        {
          "output_type": "display_data",
          "data": {
            "text/plain": [
              "<IPython.core.display.HTML object>"
            ],
            "text/html": [
              " View project at <a href='https://wandb.ai/chedasha/adaptive_bc' target=\"_blank\">https://wandb.ai/chedasha/adaptive_bc</a>"
            ]
          },
          "metadata": {}
        },
        {
          "output_type": "display_data",
          "data": {
            "text/plain": [
              "<IPython.core.display.HTML object>"
            ],
            "text/html": [
              " View run at <a href='https://wandb.ai/chedasha/adaptive_bc/runs/gna4j8tv' target=\"_blank\">https://wandb.ai/chedasha/adaptive_bc/runs/gna4j8tv</a>"
            ]
          },
          "metadata": {}
        },
        {
          "output_type": "stream",
          "name": "stderr",
          "text": [
            "100%|██████████| 250/250 [00:14<00:00, 17.36it/s]\n"
          ]
        },
        {
          "output_type": "display_data",
          "data": {
            "text/plain": [
              "<IPython.core.display.HTML object>"
            ],
            "text/html": [
              "Waiting for W&B process to finish... <strong style=\"color:green\">(success).</strong>"
            ]
          },
          "metadata": {}
        },
        {
          "output_type": "display_data",
          "data": {
            "text/plain": [
              "VBox(children=(Label(value='0.001 MB of 0.001 MB uploaded (0.000 MB deduped)\\r'), FloatProgress(value=1.0, max…"
            ],
            "application/vnd.jupyter.widget-view+json": {
              "version_major": 2,
              "version_minor": 0,
              "model_id": "b590a31bd8d14ad9aa0db1b7a3c197ee"
            }
          },
          "metadata": {}
        },
        {
          "output_type": "display_data",
          "data": {
            "text/plain": [
              "<IPython.core.display.HTML object>"
            ],
            "text/html": [
              "<style>\n",
              "    table.wandb td:nth-child(1) { padding: 0 10px; text-align: left ; width: auto;} td:nth-child(2) {text-align: left ; width: 100%}\n",
              "    .wandb-row { display: flex; flex-direction: row; flex-wrap: wrap; justify-content: flex-start; width: 100% }\n",
              "    .wandb-col { display: flex; flex-direction: column; flex-basis: 100%; flex: 1; padding: 10px; }\n",
              "    </style>\n",
              "<div class=\"wandb-row\"><div class=\"wandb-col\"><h3>Run history:</h3><br/><table class=\"wandb\"><tr><td>finetune_training/alpha</td><td>█████▇▇▇▇▆▆▆▆▆▅▅▅▅▅▅▅▅▅▅▅▅▅▅▅▁▁▁▁▁▁▁▁▁▁▁</td></tr></table><br/></div><div class=\"wandb-col\"><h3>Run summary:</h3><br/><table class=\"wandb\"><tr><td>finetune_training/alpha</td><td>0.39435</td></tr></table><br/></div></div>"
            ]
          },
          "metadata": {}
        },
        {
          "output_type": "display_data",
          "data": {
            "text/plain": [
              "<IPython.core.display.HTML object>"
            ],
            "text/html": [
              " View run <strong style=\"color:#cdcd00\">REDQ_BC_hopper-medium-replay-v0_0_1681135745</strong> at: <a href='https://wandb.ai/chedasha/adaptive_bc/runs/gna4j8tv' target=\"_blank\">https://wandb.ai/chedasha/adaptive_bc/runs/gna4j8tv</a><br/>Synced 5 W&B file(s), 0 media file(s), 0 artifact file(s) and 0 other file(s)"
            ]
          },
          "metadata": {}
        },
        {
          "output_type": "display_data",
          "data": {
            "text/plain": [
              "<IPython.core.display.HTML object>"
            ],
            "text/html": [
              "Find logs at: <code>./wandb/run-20230410_141021-gna4j8tv/logs</code>"
            ]
          },
          "metadata": {}
        }
      ]
    },
    {
      "cell_type": "markdown",
      "source": [
        "# Реализация метода Twin Delayed Deep Deterministic Policy Gradient\n",
        "\n"
      ],
      "metadata": {
        "id": "bR2r5FBrThUo"
      }
    },
    {
      "cell_type": "code",
      "source": [
        "# Runs policy for X episodes and returns D4RL score\n",
        "# A fixed seed is used for the eval environment\n",
        "def eval_policy(policy, env_name, seed, mean, std, seed_offset=100, eval_episodes=10):\n",
        "\teval_env = gym.make(env_name)\n",
        "\teval_env.seed(seed + seed_offset)\n",
        "\n",
        "\tavg_reward = 0.\n",
        "\tfor _ in range(eval_episodes):\n",
        "\t\tstate, done = eval_env.reset(), False\n",
        "\t\twhile not done:\n",
        "\t\t\tstate = (np.array(state).reshape(1,-1) - mean)/std\n",
        "\t\t\taction = policy.select_action(state)\n",
        "\t\t\tstate, reward, done, _ = eval_env.step(action)\n",
        "\t\t\tavg_reward += reward\n",
        "\n",
        "\tavg_reward /= eval_episodes\n",
        "\td4rl_score = eval_env.get_normalized_score(avg_reward) * 100\n",
        "\n",
        "\treturn d4rl_score"
      ],
      "metadata": {
        "id": "5WM4BMaySurS"
      },
      "execution_count": 13,
      "outputs": []
    },
    {
      "cell_type": "code",
      "source": [
        "parser = argparse.ArgumentParser()\n",
        "# Experiment\n",
        "parser.add_argument(\"--policy\", default=\"TD3_BC\")               # Policy name\n",
        "parser.add_argument(\"--seed\", default=0, type=int)              # Sets Gym, PyTorch and Numpy seeds\n",
        "parser.add_argument(\"--env\", default=\"hopper-medium-replay-v0\")        # OpenAI gym environment name\n",
        "parser.add_argument(\"--eval_freq\", default=500, type=int)       # How often (time steps) we evaluate\n",
        "parser.add_argument(\"--max_timesteps\", default=250, type=int)   # Max time steps to run environment\n",
        "parser.add_argument(\"--save_model\", action=\"store_true\")        # Save model and optimizer parameters\n",
        "parser.add_argument(\"--load_model\", default=\"\")                 # Model load file name, \"\" doesn't load, \"default\" uses file_name\n",
        "# TD3\n",
        "parser.add_argument(\"--expl_noise\", default=0.1)                # Std of Gaussian exploration noise\n",
        "parser.add_argument(\"--batch_size\", default=256, type=int)      # Batch size for both actor and critic\n",
        "parser.add_argument(\"--discount\", default=0.99)                 # Discount factor\n",
        "parser.add_argument(\"--tau\", default=0.005)                     # Target network update rate\n",
        "parser.add_argument(\"--policy_noise\", default=0.2)              # Noise added to target policy during critic update\n",
        "parser.add_argument(\"--noise_clip\", default=0.5)                # Range to clip target policy noise\n",
        "parser.add_argument(\"--policy_freq\", default=2, type=int)       # Frequency of delayed policy updates\n",
        "\t# TD3 + BC\n",
        "parser.add_argument(\"--alpha\", default=2.5)\n",
        "parser.add_argument(\"--normalize\", default=True)\n",
        "parser.add_argument(\"--device\", default='cuda',type=str)\n",
        "parser.add_argument('-sample_method', '--sample_method', choices=['random', 'best'], default='random')\n",
        "parser.add_argument('-sample_ratio', '--sample_ratio', type=float, default=0.05)\n",
        "parser.add_argument(\"-pretrain_timesteps\", \"--pretrain_timesteps\", default=1000, type=int)\n",
        "parser.add_argument(\"--group\", default='TD3_BC-D4RL',type=str)\n",
        "parser.add_argument(\"--name\", default='TD3_BC',type=str)\n",
        "parser.add_argument(\"--project\", default='TLab',type=str)\n",
        "parser.add_argument(\"-num_updates\", \"--num_updates\", type=int, default=10, help='Num of update steps per data point.')\n",
        "\n",
        "args = parser.parse_args('')\n",
        "\n",
        "file_name = f\"{args.policy}_{args.env}_{args.seed}\"\n",
        "\n",
        "run_id = int(time.time())\n",
        "run_name = f\"{args.policy}_{args.env}_{args.seed}_{run_id}\"\n",
        "\n",
        "if args.env == \"walker2d-random-v0\":\n",
        "    args.alpha = 100\n",
        "    args.alpha_finetune = 0.4\n",
        "elif args.env in ['pen-expert-v0', 'door-expert-v0', 'hammer-expert-v0', 'relocate-expert-v0']:\n",
        "    # these tasks need larger constraints during pretraining.\n",
        "    args.alpha = 8.0\n",
        "    args.alpha_finetune = 8.0\n",
        "    args.num_updates = 1\n",
        "else: # default value for all locomotion tasks except the 'walker2d-random-v0'\n",
        "    args.alpha = 0.4\n",
        "    args.alpha_finetune = 0.4\n",
        "\n",
        "if args.save_model:\n",
        "    if not os.path.exists(f\"./models/{args.env}/pretrain\"):\n",
        "        os.makedirs(f\"./models/{args.env}/pretrain\")\n",
        "    if not os.path.exists(f\"./models/{args.env}/finetune\"):\n",
        "        os.makedirs(f\"./models/{args.env}/finetune\")\n",
        "    else:\n",
        "        print(f\"The pretrained model will be stored under path: ./models/{args.env}/pretrain; The finetuned model will be stored under path: ./models/{args.env}/finetune\")\n",
        "\n",
        "env = gym.make(args.env)\n",
        "\n",
        "# Set seeds\n",
        "env.seed(args.seed)\n",
        "env.action_space.seed(args.seed)\n",
        "torch.manual_seed(args.seed)\n",
        "np.random.seed(args.seed)\n",
        "\t\n",
        "state_dim = env.observation_space.shape[0]\n",
        "action_dim = env.action_space.shape[0] \n",
        "max_action = float(env.action_space.high[0])"
      ],
      "metadata": {
        "id": "9sm_Uy7kSx-7"
      },
      "execution_count": 14,
      "outputs": []
    },
    {
      "cell_type": "code",
      "source": [
        "kwargs = {\n",
        "\t\"state_dim\": state_dim,\n",
        "\t\"action_dim\": action_dim,\n",
        "\t\"max_action\": max_action,\n",
        "\t\"discount\": args.discount,\n",
        "\t\"tau\": args.tau,\n",
        "\t# TD3\n",
        "\t\"policy_noise\": args.policy_noise * max_action,\n",
        "\t\"noise_clip\": args.noise_clip * max_action,\n",
        "\t\"policy_freq\": args.policy_freq,\n",
        "\t# TD3 + BC\n",
        "\t\"alpha\": args.alpha\n",
        "}\n",
        "\n",
        "# Initialize policy\n",
        "policy = TD3_BC.TD3_BC(**kwargs)\n"
      ],
      "metadata": {
        "id": "YkFAcN2nS8gO"
      },
      "execution_count": 15,
      "outputs": []
    },
    {
      "cell_type": "code",
      "source": [
        "d4rl_replay_buffer = utils.ReplayBuffer(state_dim, action_dim)\n",
        "d4rl_replay_buffer.convert_D4RL(d4rl.qlearning_dataset(env)) # fill buffer\n",
        "\n",
        "if args.load_model != \"\":\n",
        "    policy_file = file_name if args.load_model == \"default\" else args.load_model\n",
        "    policy.load(f\"./models/{policy_file}\")\n",
        "    print(f\"------ Load policy model {policy_file} ------\")\n",
        "else: # finetune\n",
        "    with wandb.init(project='TLab', group=args.env, job_type=\"pretrain\", name=run_name):\n",
        "        wandb.config.update(args)\n",
        "        for i in tqdm.tqdm(range(args.pretrain_timesteps)):\n",
        "            batch = d4rl_replay_buffer.sample(args.batch_size)\n",
        "            pretrain_info = policy.train(batch)\n",
        "            wandb.log({\"pretrain_training/\": pretrain_info})\n",
        "        \n",
        "            if i % args.eval_freq == 0:\n",
        "                pretrain_eval = utils.eval_policy(policy, args.env, args.seed)\n",
        "                wandb.log({'pretrain_evaluation/': pretrain_eval})\n",
        "        # save policy\n",
        "        if args.save_model: policy.save(f'./models/{args.env}/pretrain/{run_name}') \n",
        "\n",
        "state, done = env.reset(), False\n",
        "episode_timesteps = 0\n",
        "update_info, eval_info = {}, {}\n",
        "\n",
        "buffer = utils.ReplayBuffer(state_dim, action_dim, max_size=int(args.max_timesteps))\n",
        "buffer.convert_D4RL(d4rl.qlearning_dataset(env))\n",
        "del d4rl_replay_buffer # to save memory\n",
        "\n",
        "if args.normalize:\n",
        "\tmean,std = buffer.normalize_states() \n",
        "else:\n",
        "\tmean,std = 0,1"
      ],
      "metadata": {
        "id": "aL5BXOmS6TEm",
        "colab": {
          "base_uri": "https://localhost:8080/",
          "height": 225
        },
        "outputId": "11bf17d3-bfb8-4143-861f-17564e40020f"
      },
      "execution_count": 16,
      "outputs": [
        {
          "output_type": "stream",
          "name": "stderr",
          "text": [
            "load datafile: 100%|██████████| 5/5 [00:00<00:00, 53.19it/s]\n"
          ]
        },
        {
          "output_type": "display_data",
          "data": {
            "text/plain": [
              "<IPython.core.display.HTML object>"
            ],
            "text/html": [
              "Tracking run with wandb version 0.14.2"
            ]
          },
          "metadata": {}
        },
        {
          "output_type": "display_data",
          "data": {
            "text/plain": [
              "<IPython.core.display.HTML object>"
            ],
            "text/html": [
              "Run data is saved locally in <code>/content/wandb/run-20230410_141100-ryc1ak6c</code>"
            ]
          },
          "metadata": {}
        },
        {
          "output_type": "display_data",
          "data": {
            "text/plain": [
              "<IPython.core.display.HTML object>"
            ],
            "text/html": [
              "Syncing run <strong><a href='https://wandb.ai/chedasha/Tinkoff/runs/ryc1ak6c' target=\"_blank\">TD3_BC_hopper-medium-replay-v0_0_1681135852</a></strong> to <a href='https://wandb.ai/chedasha/Tinkoff' target=\"_blank\">Weights & Biases</a> (<a href='https://wandb.me/run' target=\"_blank\">docs</a>)<br/>"
            ]
          },
          "metadata": {}
        },
        {
          "output_type": "display_data",
          "data": {
            "text/plain": [
              "<IPython.core.display.HTML object>"
            ],
            "text/html": [
              " View project at <a href='https://wandb.ai/chedasha/Tinkoff' target=\"_blank\">https://wandb.ai/chedasha/Tinkoff</a>"
            ]
          },
          "metadata": {}
        },
        {
          "output_type": "display_data",
          "data": {
            "text/plain": [
              "<IPython.core.display.HTML object>"
            ],
            "text/html": [
              " View run at <a href='https://wandb.ai/chedasha/Tinkoff/runs/ryc1ak6c' target=\"_blank\">https://wandb.ai/chedasha/Tinkoff/runs/ryc1ak6c</a>"
            ]
          },
          "metadata": {}
        },
        {
          "output_type": "stream",
          "name": "stderr",
          "text": [
            "100%|██████████| 1000/1000 [00:07<00:00, 130.54it/s]\n"
          ]
        },
        {
          "output_type": "display_data",
          "data": {
            "text/plain": [
              "<IPython.core.display.HTML object>"
            ],
            "text/html": [
              "Waiting for W&B process to finish... <strong style=\"color:green\">(success).</strong>"
            ]
          },
          "metadata": {}
        },
        {
          "output_type": "display_data",
          "data": {
            "text/plain": [
              "<IPython.core.display.HTML object>"
            ],
            "text/html": [
              " View run <strong style=\"color:#cdcd00\">TD3_BC_hopper-medium-replay-v0_0_1681135852</strong> at: <a href='https://wandb.ai/chedasha/Tinkoff/runs/ryc1ak6c' target=\"_blank\">https://wandb.ai/chedasha/Tinkoff/runs/ryc1ak6c</a><br/>Synced 5 W&B file(s), 0 media file(s), 0 artifact file(s) and 0 other file(s)"
            ]
          },
          "metadata": {}
        },
        {
          "output_type": "display_data",
          "data": {
            "text/plain": [
              "<IPython.core.display.HTML object>"
            ],
            "text/html": [
              "Find logs at: <code>./wandb/run-20230410_141100-ryc1ak6c/logs</code>"
            ]
          },
          "metadata": {}
        },
        {
          "output_type": "stream",
          "name": "stderr",
          "text": [
            "load datafile: 100%|██████████| 5/5 [00:00<00:00, 53.15it/s]\n"
          ]
        }
      ]
    },
    {
      "cell_type": "code",
      "source": [
        "########## Begin to finetune the model ##########\n",
        "state, done = env.reset(), False\n",
        "episode_timesteps = 0\n",
        "update_info, eval_info = {}, {}\n",
        "\n",
        "policy.alpha = args.alpha_finetune\n",
        "policy.pretrain = False # set flag of pretrain\n",
        "\n",
        "evaluations = []\n",
        "\n",
        "# finetune\n",
        "with wandb.init(project='TLab', group=args.env, job_type=\"finetune\", name=run_name):\n",
        "    wandb.config.update(args)\n",
        "\n",
        "\n",
        "    episode_return = 0.\n",
        "    for t in tqdm.tqdm(range(args.max_timesteps)):\n",
        "        episode_timesteps += 1\n",
        "            \n",
        "        for _ in range(args.num_updates):\n",
        "            update_info = policy.train(buffer.sample(args.batch_size))\n",
        "\n",
        "        wandb.log({'finetune_training/': update_info})\n",
        "            \n",
        "        # Evaluate episode\n",
        "        if t % args.eval_freq == 0:\n",
        "                eval_info = utils.eval_policy(policy, args.env, args.seed, eval_episodes=10)\n",
        "                wandb.log({'finetune_evaluation/': eval_info})\n",
        "\n",
        "                if args.save_model:\n",
        "                    policy.save(f\"./models/{args.env}/finetune/{run_name}\")\n",
        "        if (t + 1) % args.eval_freq == 0:\n",
        "            normalized_score=eval_policy(policy, args.env, args.seed, mean, std)\n",
        "            evaluations.append(normalized_score)\n",
        "    \n",
        "            np.save(f\"./results/{file_name}\", evaluations)\n",
        "            eval_info = utils.eval_policy(policy, args.env, args.seed, eval_episodes=10)\n",
        "            wandb.log({'finetune_evaluation/': eval_info})\n",
        "            if args.save_model: policy.save(f\"./models/{args.env}/finetune/{run_name}\")\n",
        "  \n",
        "            wandb.log(\n",
        "                {\"d4rl_normalized_score\": normalized_score},\n",
        "                step=policy.total_it,\n",
        "            )"
      ],
      "metadata": {
        "colab": {
          "base_uri": "https://localhost:8080/",
          "height": 255,
          "referenced_widgets": [
            "43bcb03c9a414dfcbf9c9b7b9ab591d5",
            "5895f39978314c0eabb64447ffdf5e53",
            "35ca215609ea42cd8d32ae2921ae684b",
            "bf75aaddd5b44e0a8103ee5f8533aad8",
            "e72dd7a9a4a84672af2083b1abea665f",
            "c8195c0444124eb4b566c4b6ed3ebf8b",
            "1b411d7ebd3e4fc39518eb9ebc4b85ab",
            "5d3aab81af3b4e5fae9b581baffc0cfc"
          ]
        },
        "outputId": "b77d8e04-466f-4c35-ce46-4b2ce42a6638",
        "id": "3El39b0AfZyq"
      },
      "execution_count": 17,
      "outputs": [
        {
          "output_type": "display_data",
          "data": {
            "text/plain": [
              "<IPython.core.display.HTML object>"
            ],
            "text/html": [
              "Tracking run with wandb version 0.14.2"
            ]
          },
          "metadata": {}
        },
        {
          "output_type": "display_data",
          "data": {
            "text/plain": [
              "<IPython.core.display.HTML object>"
            ],
            "text/html": [
              "Run data is saved locally in <code>/content/wandb/run-20230410_141120-vhnlz7mj</code>"
            ]
          },
          "metadata": {}
        },
        {
          "output_type": "display_data",
          "data": {
            "text/plain": [
              "<IPython.core.display.HTML object>"
            ],
            "text/html": [
              "Syncing run <strong><a href='https://wandb.ai/chedasha/Tinkoff/runs/vhnlz7mj' target=\"_blank\">TD3_BC_hopper-medium-replay-v0_0_1681135852</a></strong> to <a href='https://wandb.ai/chedasha/Tinkoff' target=\"_blank\">Weights & Biases</a> (<a href='https://wandb.me/run' target=\"_blank\">docs</a>)<br/>"
            ]
          },
          "metadata": {}
        },
        {
          "output_type": "display_data",
          "data": {
            "text/plain": [
              "<IPython.core.display.HTML object>"
            ],
            "text/html": [
              " View project at <a href='https://wandb.ai/chedasha/Tinkoff' target=\"_blank\">https://wandb.ai/chedasha/Tinkoff</a>"
            ]
          },
          "metadata": {}
        },
        {
          "output_type": "display_data",
          "data": {
            "text/plain": [
              "<IPython.core.display.HTML object>"
            ],
            "text/html": [
              " View run at <a href='https://wandb.ai/chedasha/Tinkoff/runs/vhnlz7mj' target=\"_blank\">https://wandb.ai/chedasha/Tinkoff/runs/vhnlz7mj</a>"
            ]
          },
          "metadata": {}
        },
        {
          "output_type": "stream",
          "name": "stderr",
          "text": [
            "100%|██████████| 250/250 [00:13<00:00, 18.60it/s]\n"
          ]
        },
        {
          "output_type": "display_data",
          "data": {
            "text/plain": [
              "<IPython.core.display.HTML object>"
            ],
            "text/html": [
              "Waiting for W&B process to finish... <strong style=\"color:green\">(success).</strong>"
            ]
          },
          "metadata": {}
        },
        {
          "output_type": "display_data",
          "data": {
            "text/plain": [
              "VBox(children=(Label(value='0.001 MB of 0.010 MB uploaded (0.000 MB deduped)\\r'), FloatProgress(value=0.118220…"
            ],
            "application/vnd.jupyter.widget-view+json": {
              "version_major": 2,
              "version_minor": 0,
              "model_id": "43bcb03c9a414dfcbf9c9b7b9ab591d5"
            }
          },
          "metadata": {}
        },
        {
          "output_type": "display_data",
          "data": {
            "text/plain": [
              "<IPython.core.display.HTML object>"
            ],
            "text/html": [
              " View run <strong style=\"color:#cdcd00\">TD3_BC_hopper-medium-replay-v0_0_1681135852</strong> at: <a href='https://wandb.ai/chedasha/Tinkoff/runs/vhnlz7mj' target=\"_blank\">https://wandb.ai/chedasha/Tinkoff/runs/vhnlz7mj</a><br/>Synced 5 W&B file(s), 0 media file(s), 0 artifact file(s) and 0 other file(s)"
            ]
          },
          "metadata": {}
        },
        {
          "output_type": "display_data",
          "data": {
            "text/plain": [
              "<IPython.core.display.HTML object>"
            ],
            "text/html": [
              "Find logs at: <code>./wandb/run-20230410_141120-vhnlz7mj/logs</code>"
            ]
          },
          "metadata": {}
        }
      ]
    }
  ],
  "metadata": {
    "accelerator": "GPU",
    "colab": {
      "collapsed_sections": [
        "apV6HN9qrKuu"
      ],
      "provenance": [],
      "include_colab_link": true
    },
    "kernelspec": {
      "display_name": "Python 3",
      "name": "python3"
    },
    "language_info": {
      "name": "python"
    },
    "widgets": {
      "application/vnd.jupyter.widget-state+json": {
        "62bd1636efb4404ea3dcce536f9036a9": {
          "model_module": "@jupyter-widgets/controls",
          "model_name": "VBoxModel",
          "model_module_version": "1.5.0",
          "state": {
            "_dom_classes": [],
            "_model_module": "@jupyter-widgets/controls",
            "_model_module_version": "1.5.0",
            "_model_name": "VBoxModel",
            "_view_count": null,
            "_view_module": "@jupyter-widgets/controls",
            "_view_module_version": "1.5.0",
            "_view_name": "VBoxView",
            "box_style": "",
            "children": [
              "IPY_MODEL_ccd77d5cc2844f6ea96a66ca695c53d3",
              "IPY_MODEL_276cb1238cc143e2b6ce32f86fcc962a"
            ],
            "layout": "IPY_MODEL_2614824de544463997446ccc4d828ad3"
          }
        },
        "ccd77d5cc2844f6ea96a66ca695c53d3": {
          "model_module": "@jupyter-widgets/controls",
          "model_name": "LabelModel",
          "model_module_version": "1.5.0",
          "state": {
            "_dom_classes": [],
            "_model_module": "@jupyter-widgets/controls",
            "_model_module_version": "1.5.0",
            "_model_name": "LabelModel",
            "_view_count": null,
            "_view_module": "@jupyter-widgets/controls",
            "_view_module_version": "1.5.0",
            "_view_name": "LabelView",
            "description": "",
            "description_tooltip": null,
            "layout": "IPY_MODEL_ffb0c977c81a48438f9ef0731f5bc037",
            "placeholder": "​",
            "style": "IPY_MODEL_27092b819ba448a6af2d5af289dfe273",
            "value": "0.001 MB of 0.011 MB uploaded (0.000 MB deduped)\r"
          }
        },
        "276cb1238cc143e2b6ce32f86fcc962a": {
          "model_module": "@jupyter-widgets/controls",
          "model_name": "FloatProgressModel",
          "model_module_version": "1.5.0",
          "state": {
            "_dom_classes": [],
            "_model_module": "@jupyter-widgets/controls",
            "_model_module_version": "1.5.0",
            "_model_name": "FloatProgressModel",
            "_view_count": null,
            "_view_module": "@jupyter-widgets/controls",
            "_view_module_version": "1.5.0",
            "_view_name": "ProgressView",
            "bar_style": "",
            "description": "",
            "description_tooltip": null,
            "layout": "IPY_MODEL_9e96980075ae4d5ea03c5a929ee14d5a",
            "max": 1,
            "min": 0,
            "orientation": "horizontal",
            "style": "IPY_MODEL_eab36f0ac5e1453bb9c18339b552b110",
            "value": 0.11114081996434938
          }
        },
        "2614824de544463997446ccc4d828ad3": {
          "model_module": "@jupyter-widgets/base",
          "model_name": "LayoutModel",
          "model_module_version": "1.2.0",
          "state": {
            "_model_module": "@jupyter-widgets/base",
            "_model_module_version": "1.2.0",
            "_model_name": "LayoutModel",
            "_view_count": null,
            "_view_module": "@jupyter-widgets/base",
            "_view_module_version": "1.2.0",
            "_view_name": "LayoutView",
            "align_content": null,
            "align_items": null,
            "align_self": null,
            "border": null,
            "bottom": null,
            "display": null,
            "flex": null,
            "flex_flow": null,
            "grid_area": null,
            "grid_auto_columns": null,
            "grid_auto_flow": null,
            "grid_auto_rows": null,
            "grid_column": null,
            "grid_gap": null,
            "grid_row": null,
            "grid_template_areas": null,
            "grid_template_columns": null,
            "grid_template_rows": null,
            "height": null,
            "justify_content": null,
            "justify_items": null,
            "left": null,
            "margin": null,
            "max_height": null,
            "max_width": null,
            "min_height": null,
            "min_width": null,
            "object_fit": null,
            "object_position": null,
            "order": null,
            "overflow": null,
            "overflow_x": null,
            "overflow_y": null,
            "padding": null,
            "right": null,
            "top": null,
            "visibility": null,
            "width": null
          }
        },
        "ffb0c977c81a48438f9ef0731f5bc037": {
          "model_module": "@jupyter-widgets/base",
          "model_name": "LayoutModel",
          "model_module_version": "1.2.0",
          "state": {
            "_model_module": "@jupyter-widgets/base",
            "_model_module_version": "1.2.0",
            "_model_name": "LayoutModel",
            "_view_count": null,
            "_view_module": "@jupyter-widgets/base",
            "_view_module_version": "1.2.0",
            "_view_name": "LayoutView",
            "align_content": null,
            "align_items": null,
            "align_self": null,
            "border": null,
            "bottom": null,
            "display": null,
            "flex": null,
            "flex_flow": null,
            "grid_area": null,
            "grid_auto_columns": null,
            "grid_auto_flow": null,
            "grid_auto_rows": null,
            "grid_column": null,
            "grid_gap": null,
            "grid_row": null,
            "grid_template_areas": null,
            "grid_template_columns": null,
            "grid_template_rows": null,
            "height": null,
            "justify_content": null,
            "justify_items": null,
            "left": null,
            "margin": null,
            "max_height": null,
            "max_width": null,
            "min_height": null,
            "min_width": null,
            "object_fit": null,
            "object_position": null,
            "order": null,
            "overflow": null,
            "overflow_x": null,
            "overflow_y": null,
            "padding": null,
            "right": null,
            "top": null,
            "visibility": null,
            "width": null
          }
        },
        "27092b819ba448a6af2d5af289dfe273": {
          "model_module": "@jupyter-widgets/controls",
          "model_name": "DescriptionStyleModel",
          "model_module_version": "1.5.0",
          "state": {
            "_model_module": "@jupyter-widgets/controls",
            "_model_module_version": "1.5.0",
            "_model_name": "DescriptionStyleModel",
            "_view_count": null,
            "_view_module": "@jupyter-widgets/base",
            "_view_module_version": "1.2.0",
            "_view_name": "StyleView",
            "description_width": ""
          }
        },
        "9e96980075ae4d5ea03c5a929ee14d5a": {
          "model_module": "@jupyter-widgets/base",
          "model_name": "LayoutModel",
          "model_module_version": "1.2.0",
          "state": {
            "_model_module": "@jupyter-widgets/base",
            "_model_module_version": "1.2.0",
            "_model_name": "LayoutModel",
            "_view_count": null,
            "_view_module": "@jupyter-widgets/base",
            "_view_module_version": "1.2.0",
            "_view_name": "LayoutView",
            "align_content": null,
            "align_items": null,
            "align_self": null,
            "border": null,
            "bottom": null,
            "display": null,
            "flex": null,
            "flex_flow": null,
            "grid_area": null,
            "grid_auto_columns": null,
            "grid_auto_flow": null,
            "grid_auto_rows": null,
            "grid_column": null,
            "grid_gap": null,
            "grid_row": null,
            "grid_template_areas": null,
            "grid_template_columns": null,
            "grid_template_rows": null,
            "height": null,
            "justify_content": null,
            "justify_items": null,
            "left": null,
            "margin": null,
            "max_height": null,
            "max_width": null,
            "min_height": null,
            "min_width": null,
            "object_fit": null,
            "object_position": null,
            "order": null,
            "overflow": null,
            "overflow_x": null,
            "overflow_y": null,
            "padding": null,
            "right": null,
            "top": null,
            "visibility": null,
            "width": null
          }
        },
        "eab36f0ac5e1453bb9c18339b552b110": {
          "model_module": "@jupyter-widgets/controls",
          "model_name": "ProgressStyleModel",
          "model_module_version": "1.5.0",
          "state": {
            "_model_module": "@jupyter-widgets/controls",
            "_model_module_version": "1.5.0",
            "_model_name": "ProgressStyleModel",
            "_view_count": null,
            "_view_module": "@jupyter-widgets/base",
            "_view_module_version": "1.2.0",
            "_view_name": "StyleView",
            "bar_color": null,
            "description_width": ""
          }
        },
        "b590a31bd8d14ad9aa0db1b7a3c197ee": {
          "model_module": "@jupyter-widgets/controls",
          "model_name": "VBoxModel",
          "model_module_version": "1.5.0",
          "state": {
            "_dom_classes": [],
            "_model_module": "@jupyter-widgets/controls",
            "_model_module_version": "1.5.0",
            "_model_name": "VBoxModel",
            "_view_count": null,
            "_view_module": "@jupyter-widgets/controls",
            "_view_module_version": "1.5.0",
            "_view_name": "VBoxView",
            "box_style": "",
            "children": [
              "IPY_MODEL_c03862d7b7404d53a7039f719c9a9288",
              "IPY_MODEL_377f67d832fa4961a2e7c41ceac43337"
            ],
            "layout": "IPY_MODEL_97f401c112764ba4a09b609c28f493df"
          }
        },
        "c03862d7b7404d53a7039f719c9a9288": {
          "model_module": "@jupyter-widgets/controls",
          "model_name": "LabelModel",
          "model_module_version": "1.5.0",
          "state": {
            "_dom_classes": [],
            "_model_module": "@jupyter-widgets/controls",
            "_model_module_version": "1.5.0",
            "_model_name": "LabelModel",
            "_view_count": null,
            "_view_module": "@jupyter-widgets/controls",
            "_view_module_version": "1.5.0",
            "_view_name": "LabelView",
            "description": "",
            "description_tooltip": null,
            "layout": "IPY_MODEL_ce39b5735f7e4f5ab22ebd2ca6b32f3f",
            "placeholder": "​",
            "style": "IPY_MODEL_ecf99f94d59945fab370221f528aedf9",
            "value": "0.001 MB of 0.010 MB uploaded (0.000 MB deduped)\r"
          }
        },
        "377f67d832fa4961a2e7c41ceac43337": {
          "model_module": "@jupyter-widgets/controls",
          "model_name": "FloatProgressModel",
          "model_module_version": "1.5.0",
          "state": {
            "_dom_classes": [],
            "_model_module": "@jupyter-widgets/controls",
            "_model_module_version": "1.5.0",
            "_model_name": "FloatProgressModel",
            "_view_count": null,
            "_view_module": "@jupyter-widgets/controls",
            "_view_module_version": "1.5.0",
            "_view_name": "ProgressView",
            "bar_style": "",
            "description": "",
            "description_tooltip": null,
            "layout": "IPY_MODEL_cc1083b7599c43e98db601b0aa4d8d62",
            "max": 1,
            "min": 0,
            "orientation": "horizontal",
            "style": "IPY_MODEL_4d4056b427444d97a33d56d544fc5c94",
            "value": 0.11815343865291836
          }
        },
        "97f401c112764ba4a09b609c28f493df": {
          "model_module": "@jupyter-widgets/base",
          "model_name": "LayoutModel",
          "model_module_version": "1.2.0",
          "state": {
            "_model_module": "@jupyter-widgets/base",
            "_model_module_version": "1.2.0",
            "_model_name": "LayoutModel",
            "_view_count": null,
            "_view_module": "@jupyter-widgets/base",
            "_view_module_version": "1.2.0",
            "_view_name": "LayoutView",
            "align_content": null,
            "align_items": null,
            "align_self": null,
            "border": null,
            "bottom": null,
            "display": null,
            "flex": null,
            "flex_flow": null,
            "grid_area": null,
            "grid_auto_columns": null,
            "grid_auto_flow": null,
            "grid_auto_rows": null,
            "grid_column": null,
            "grid_gap": null,
            "grid_row": null,
            "grid_template_areas": null,
            "grid_template_columns": null,
            "grid_template_rows": null,
            "height": null,
            "justify_content": null,
            "justify_items": null,
            "left": null,
            "margin": null,
            "max_height": null,
            "max_width": null,
            "min_height": null,
            "min_width": null,
            "object_fit": null,
            "object_position": null,
            "order": null,
            "overflow": null,
            "overflow_x": null,
            "overflow_y": null,
            "padding": null,
            "right": null,
            "top": null,
            "visibility": null,
            "width": null
          }
        },
        "ce39b5735f7e4f5ab22ebd2ca6b32f3f": {
          "model_module": "@jupyter-widgets/base",
          "model_name": "LayoutModel",
          "model_module_version": "1.2.0",
          "state": {
            "_model_module": "@jupyter-widgets/base",
            "_model_module_version": "1.2.0",
            "_model_name": "LayoutModel",
            "_view_count": null,
            "_view_module": "@jupyter-widgets/base",
            "_view_module_version": "1.2.0",
            "_view_name": "LayoutView",
            "align_content": null,
            "align_items": null,
            "align_self": null,
            "border": null,
            "bottom": null,
            "display": null,
            "flex": null,
            "flex_flow": null,
            "grid_area": null,
            "grid_auto_columns": null,
            "grid_auto_flow": null,
            "grid_auto_rows": null,
            "grid_column": null,
            "grid_gap": null,
            "grid_row": null,
            "grid_template_areas": null,
            "grid_template_columns": null,
            "grid_template_rows": null,
            "height": null,
            "justify_content": null,
            "justify_items": null,
            "left": null,
            "margin": null,
            "max_height": null,
            "max_width": null,
            "min_height": null,
            "min_width": null,
            "object_fit": null,
            "object_position": null,
            "order": null,
            "overflow": null,
            "overflow_x": null,
            "overflow_y": null,
            "padding": null,
            "right": null,
            "top": null,
            "visibility": null,
            "width": null
          }
        },
        "ecf99f94d59945fab370221f528aedf9": {
          "model_module": "@jupyter-widgets/controls",
          "model_name": "DescriptionStyleModel",
          "model_module_version": "1.5.0",
          "state": {
            "_model_module": "@jupyter-widgets/controls",
            "_model_module_version": "1.5.0",
            "_model_name": "DescriptionStyleModel",
            "_view_count": null,
            "_view_module": "@jupyter-widgets/base",
            "_view_module_version": "1.2.0",
            "_view_name": "StyleView",
            "description_width": ""
          }
        },
        "cc1083b7599c43e98db601b0aa4d8d62": {
          "model_module": "@jupyter-widgets/base",
          "model_name": "LayoutModel",
          "model_module_version": "1.2.0",
          "state": {
            "_model_module": "@jupyter-widgets/base",
            "_model_module_version": "1.2.0",
            "_model_name": "LayoutModel",
            "_view_count": null,
            "_view_module": "@jupyter-widgets/base",
            "_view_module_version": "1.2.0",
            "_view_name": "LayoutView",
            "align_content": null,
            "align_items": null,
            "align_self": null,
            "border": null,
            "bottom": null,
            "display": null,
            "flex": null,
            "flex_flow": null,
            "grid_area": null,
            "grid_auto_columns": null,
            "grid_auto_flow": null,
            "grid_auto_rows": null,
            "grid_column": null,
            "grid_gap": null,
            "grid_row": null,
            "grid_template_areas": null,
            "grid_template_columns": null,
            "grid_template_rows": null,
            "height": null,
            "justify_content": null,
            "justify_items": null,
            "left": null,
            "margin": null,
            "max_height": null,
            "max_width": null,
            "min_height": null,
            "min_width": null,
            "object_fit": null,
            "object_position": null,
            "order": null,
            "overflow": null,
            "overflow_x": null,
            "overflow_y": null,
            "padding": null,
            "right": null,
            "top": null,
            "visibility": null,
            "width": null
          }
        },
        "4d4056b427444d97a33d56d544fc5c94": {
          "model_module": "@jupyter-widgets/controls",
          "model_name": "ProgressStyleModel",
          "model_module_version": "1.5.0",
          "state": {
            "_model_module": "@jupyter-widgets/controls",
            "_model_module_version": "1.5.0",
            "_model_name": "ProgressStyleModel",
            "_view_count": null,
            "_view_module": "@jupyter-widgets/base",
            "_view_module_version": "1.2.0",
            "_view_name": "StyleView",
            "bar_color": null,
            "description_width": ""
          }
        },
        "43bcb03c9a414dfcbf9c9b7b9ab591d5": {
          "model_module": "@jupyter-widgets/controls",
          "model_name": "VBoxModel",
          "model_module_version": "1.5.0",
          "state": {
            "_dom_classes": [],
            "_model_module": "@jupyter-widgets/controls",
            "_model_module_version": "1.5.0",
            "_model_name": "VBoxModel",
            "_view_count": null,
            "_view_module": "@jupyter-widgets/controls",
            "_view_module_version": "1.5.0",
            "_view_name": "VBoxView",
            "box_style": "",
            "children": [
              "IPY_MODEL_5895f39978314c0eabb64447ffdf5e53",
              "IPY_MODEL_35ca215609ea42cd8d32ae2921ae684b"
            ],
            "layout": "IPY_MODEL_bf75aaddd5b44e0a8103ee5f8533aad8"
          }
        },
        "5895f39978314c0eabb64447ffdf5e53": {
          "model_module": "@jupyter-widgets/controls",
          "model_name": "LabelModel",
          "model_module_version": "1.5.0",
          "state": {
            "_dom_classes": [],
            "_model_module": "@jupyter-widgets/controls",
            "_model_module_version": "1.5.0",
            "_model_name": "LabelModel",
            "_view_count": null,
            "_view_module": "@jupyter-widgets/controls",
            "_view_module_version": "1.5.0",
            "_view_name": "LabelView",
            "description": "",
            "description_tooltip": null,
            "layout": "IPY_MODEL_e72dd7a9a4a84672af2083b1abea665f",
            "placeholder": "​",
            "style": "IPY_MODEL_c8195c0444124eb4b566c4b6ed3ebf8b",
            "value": "0.001 MB of 0.010 MB uploaded (0.000 MB deduped)\r"
          }
        },
        "35ca215609ea42cd8d32ae2921ae684b": {
          "model_module": "@jupyter-widgets/controls",
          "model_name": "FloatProgressModel",
          "model_module_version": "1.5.0",
          "state": {
            "_dom_classes": [],
            "_model_module": "@jupyter-widgets/controls",
            "_model_module_version": "1.5.0",
            "_model_name": "FloatProgressModel",
            "_view_count": null,
            "_view_module": "@jupyter-widgets/controls",
            "_view_module_version": "1.5.0",
            "_view_name": "ProgressView",
            "bar_style": "",
            "description": "",
            "description_tooltip": null,
            "layout": "IPY_MODEL_1b411d7ebd3e4fc39518eb9ebc4b85ab",
            "max": 1,
            "min": 0,
            "orientation": "horizontal",
            "style": "IPY_MODEL_5d3aab81af3b4e5fae9b581baffc0cfc",
            "value": 0.11822053951727401
          }
        },
        "bf75aaddd5b44e0a8103ee5f8533aad8": {
          "model_module": "@jupyter-widgets/base",
          "model_name": "LayoutModel",
          "model_module_version": "1.2.0",
          "state": {
            "_model_module": "@jupyter-widgets/base",
            "_model_module_version": "1.2.0",
            "_model_name": "LayoutModel",
            "_view_count": null,
            "_view_module": "@jupyter-widgets/base",
            "_view_module_version": "1.2.0",
            "_view_name": "LayoutView",
            "align_content": null,
            "align_items": null,
            "align_self": null,
            "border": null,
            "bottom": null,
            "display": null,
            "flex": null,
            "flex_flow": null,
            "grid_area": null,
            "grid_auto_columns": null,
            "grid_auto_flow": null,
            "grid_auto_rows": null,
            "grid_column": null,
            "grid_gap": null,
            "grid_row": null,
            "grid_template_areas": null,
            "grid_template_columns": null,
            "grid_template_rows": null,
            "height": null,
            "justify_content": null,
            "justify_items": null,
            "left": null,
            "margin": null,
            "max_height": null,
            "max_width": null,
            "min_height": null,
            "min_width": null,
            "object_fit": null,
            "object_position": null,
            "order": null,
            "overflow": null,
            "overflow_x": null,
            "overflow_y": null,
            "padding": null,
            "right": null,
            "top": null,
            "visibility": null,
            "width": null
          }
        },
        "e72dd7a9a4a84672af2083b1abea665f": {
          "model_module": "@jupyter-widgets/base",
          "model_name": "LayoutModel",
          "model_module_version": "1.2.0",
          "state": {
            "_model_module": "@jupyter-widgets/base",
            "_model_module_version": "1.2.0",
            "_model_name": "LayoutModel",
            "_view_count": null,
            "_view_module": "@jupyter-widgets/base",
            "_view_module_version": "1.2.0",
            "_view_name": "LayoutView",
            "align_content": null,
            "align_items": null,
            "align_self": null,
            "border": null,
            "bottom": null,
            "display": null,
            "flex": null,
            "flex_flow": null,
            "grid_area": null,
            "grid_auto_columns": null,
            "grid_auto_flow": null,
            "grid_auto_rows": null,
            "grid_column": null,
            "grid_gap": null,
            "grid_row": null,
            "grid_template_areas": null,
            "grid_template_columns": null,
            "grid_template_rows": null,
            "height": null,
            "justify_content": null,
            "justify_items": null,
            "left": null,
            "margin": null,
            "max_height": null,
            "max_width": null,
            "min_height": null,
            "min_width": null,
            "object_fit": null,
            "object_position": null,
            "order": null,
            "overflow": null,
            "overflow_x": null,
            "overflow_y": null,
            "padding": null,
            "right": null,
            "top": null,
            "visibility": null,
            "width": null
          }
        },
        "c8195c0444124eb4b566c4b6ed3ebf8b": {
          "model_module": "@jupyter-widgets/controls",
          "model_name": "DescriptionStyleModel",
          "model_module_version": "1.5.0",
          "state": {
            "_model_module": "@jupyter-widgets/controls",
            "_model_module_version": "1.5.0",
            "_model_name": "DescriptionStyleModel",
            "_view_count": null,
            "_view_module": "@jupyter-widgets/base",
            "_view_module_version": "1.2.0",
            "_view_name": "StyleView",
            "description_width": ""
          }
        },
        "1b411d7ebd3e4fc39518eb9ebc4b85ab": {
          "model_module": "@jupyter-widgets/base",
          "model_name": "LayoutModel",
          "model_module_version": "1.2.0",
          "state": {
            "_model_module": "@jupyter-widgets/base",
            "_model_module_version": "1.2.0",
            "_model_name": "LayoutModel",
            "_view_count": null,
            "_view_module": "@jupyter-widgets/base",
            "_view_module_version": "1.2.0",
            "_view_name": "LayoutView",
            "align_content": null,
            "align_items": null,
            "align_self": null,
            "border": null,
            "bottom": null,
            "display": null,
            "flex": null,
            "flex_flow": null,
            "grid_area": null,
            "grid_auto_columns": null,
            "grid_auto_flow": null,
            "grid_auto_rows": null,
            "grid_column": null,
            "grid_gap": null,
            "grid_row": null,
            "grid_template_areas": null,
            "grid_template_columns": null,
            "grid_template_rows": null,
            "height": null,
            "justify_content": null,
            "justify_items": null,
            "left": null,
            "margin": null,
            "max_height": null,
            "max_width": null,
            "min_height": null,
            "min_width": null,
            "object_fit": null,
            "object_position": null,
            "order": null,
            "overflow": null,
            "overflow_x": null,
            "overflow_y": null,
            "padding": null,
            "right": null,
            "top": null,
            "visibility": null,
            "width": null
          }
        },
        "5d3aab81af3b4e5fae9b581baffc0cfc": {
          "model_module": "@jupyter-widgets/controls",
          "model_name": "ProgressStyleModel",
          "model_module_version": "1.5.0",
          "state": {
            "_model_module": "@jupyter-widgets/controls",
            "_model_module_version": "1.5.0",
            "_model_name": "ProgressStyleModel",
            "_view_count": null,
            "_view_module": "@jupyter-widgets/base",
            "_view_module_version": "1.2.0",
            "_view_name": "StyleView",
            "bar_color": null,
            "description_width": ""
          }
        }
      }
    }
  },
  "nbformat": 4,
  "nbformat_minor": 0
}